{
 "cells": [
  {
   "cell_type": "code",
   "execution_count": 9,
   "metadata": {},
   "outputs": [],
   "source": [
    "import pandas as pd\n",
    "import numpy as np\n",
    "import plotly\n",
    "import re\n",
    "import math\n",
    "import textblob\n",
    "from textblob import TextBlob\n",
    "from textblob import Blobber\n",
    "from textblob.wordnet import Synset"
   ]
  },
  {
   "cell_type": "code",
   "execution_count": 10,
   "metadata": {},
   "outputs": [
    {
     "name": "stdout",
     "output_type": "stream",
     "text": [
      "[nltk_data] Downloading package stopwords to\n",
      "[nltk_data]     C:\\Users\\Julie\\AppData\\Roaming\\nltk_data...\n",
      "[nltk_data]   Package stopwords is already up-to-date!\n"
     ]
    }
   ],
   "source": [
    "import nltk\n",
    "nltk.download('stopwords')\n",
    "from nltk.corpus import stopwords"
   ]
  },
  {
   "cell_type": "code",
   "execution_count": 11,
   "metadata": {},
   "outputs": [],
   "source": [
    "from IPython.core.interactiveshell import InteractiveShell\n",
    "InteractiveShell.ast_node_interactivity = \"all\"\n",
    "%matplotlib inline"
   ]
  },
  {
   "cell_type": "markdown",
   "metadata": {},
   "source": [
    "# To do: \n",
    "- Separate by \"or\" and \";\" also! - Done!\n",
    "- *Polarity check before meaning check because of stop words processing should be better 'v' (kinda done)*"
   ]
  },
  {
   "cell_type": "markdown",
   "metadata": {},
   "source": [
    "#### Reading the pre-cleaned data"
   ]
  },
  {
   "cell_type": "code",
   "execution_count": 12,
   "metadata": {},
   "outputs": [],
   "source": [
    "flower_data = pd.read_csv(\"../Data/General/flower_cleaned.csv\", error_bad_lines=False, delimiter=\";\")"
   ]
  },
  {
   "cell_type": "code",
   "execution_count": 13,
   "metadata": {},
   "outputs": [
    {
     "data": {
      "text/html": [
       "<div>\n",
       "<style scoped>\n",
       "    .dataframe tbody tr th:only-of-type {\n",
       "        vertical-align: middle;\n",
       "    }\n",
       "\n",
       "    .dataframe tbody tr th {\n",
       "        vertical-align: top;\n",
       "    }\n",
       "\n",
       "    .dataframe thead th {\n",
       "        text-align: right;\n",
       "    }\n",
       "</style>\n",
       "<table border=\"1\" class=\"dataframe\">\n",
       "  <thead>\n",
       "    <tr style=\"text-align: right;\">\n",
       "      <th></th>\n",
       "      <th>Flower</th>\n",
       "      <th>Meaning</th>\n",
       "      <th>SimilarIndex30</th>\n",
       "      <th>SimilarIndex20</th>\n",
       "      <th>SimilarIndex40</th>\n",
       "    </tr>\n",
       "  </thead>\n",
       "  <tbody>\n",
       "    <tr>\n",
       "      <th>181</th>\n",
       "      <td>Laurel</td>\n",
       "      <td>success</td>\n",
       "      <td>[256]</td>\n",
       "      <td>[233, 256, 358]</td>\n",
       "      <td>[233, 256, 358]</td>\n",
       "    </tr>\n",
       "    <tr>\n",
       "      <th>349</th>\n",
       "      <td>Violet [blue]</td>\n",
       "      <td>faithfulness</td>\n",
       "      <td>[]</td>\n",
       "      <td>[]</td>\n",
       "      <td>[]</td>\n",
       "    </tr>\n",
       "    <tr>\n",
       "      <th>306</th>\n",
       "      <td>Snowdrop</td>\n",
       "      <td>hope</td>\n",
       "      <td>[338, 341]</td>\n",
       "      <td>[325, 338, 341]</td>\n",
       "      <td>[325, 338, 341]</td>\n",
       "    </tr>\n",
       "    <tr>\n",
       "      <th>192</th>\n",
       "      <td>Lily [orange]</td>\n",
       "      <td>desire</td>\n",
       "      <td>[198, 228, 287, 293, 306, 338, 341]</td>\n",
       "      <td>[193, 197, 198, 207, 213, 215, 228, 236, 243, ...</td>\n",
       "      <td>[193, 197, 198, 207, 213, 215, 228, 236, 243, ...</td>\n",
       "    </tr>\n",
       "    <tr>\n",
       "      <th>200</th>\n",
       "      <td>Lime blossom</td>\n",
       "      <td>fornication</td>\n",
       "      <td>[]</td>\n",
       "      <td>[]</td>\n",
       "      <td>[]</td>\n",
       "    </tr>\n",
       "    <tr>\n",
       "      <th>173</th>\n",
       "      <td>Hydrangea</td>\n",
       "      <td>heartfelt gratitude for being understood</td>\n",
       "      <td>[]</td>\n",
       "      <td>[178, 187, 257, 260, 263, 286, 295, 299, 315, ...</td>\n",
       "      <td>[178, 187, 257, 260, 263, 286, 295, 299, 315, ...</td>\n",
       "    </tr>\n",
       "    <tr>\n",
       "      <th>29</th>\n",
       "      <td>Azalea</td>\n",
       "      <td>temperance</td>\n",
       "      <td>[]</td>\n",
       "      <td>[]</td>\n",
       "      <td>[]</td>\n",
       "    </tr>\n",
       "    <tr>\n",
       "      <th>133</th>\n",
       "      <td>Dandelion</td>\n",
       "      <td>overcoming hardship</td>\n",
       "      <td>[]</td>\n",
       "      <td>[144, 151, 153, 154, 160, 174, 178, 187, 206, ...</td>\n",
       "      <td>[144, 151, 153, 154, 160, 174, 178, 187, 206, ...</td>\n",
       "    </tr>\n",
       "    <tr>\n",
       "      <th>74</th>\n",
       "      <td>Carnation [yellow]</td>\n",
       "      <td>rejection</td>\n",
       "      <td>[]</td>\n",
       "      <td>[218]</td>\n",
       "      <td>[218]</td>\n",
       "    </tr>\n",
       "    <tr>\n",
       "      <th>99</th>\n",
       "      <td>Coreopsis</td>\n",
       "      <td>always cheerful</td>\n",
       "      <td>[]</td>\n",
       "      <td>[336]</td>\n",
       "      <td>[336]</td>\n",
       "    </tr>\n",
       "  </tbody>\n",
       "</table>\n",
       "</div>"
      ],
      "text/plain": [
       "                 Flower                                    Meaning  \\\n",
       "181              Laurel                                    success   \n",
       "349       Violet [blue]                               faithfulness   \n",
       "306            Snowdrop                                       hope   \n",
       "192       Lily [orange]                                     desire   \n",
       "200        Lime blossom                                fornication   \n",
       "173           Hydrangea   heartfelt gratitude for being understood   \n",
       "29               Azalea                                 temperance   \n",
       "133           Dandelion                        overcoming hardship   \n",
       "74   Carnation [yellow]                                  rejection   \n",
       "99            Coreopsis                            always cheerful   \n",
       "\n",
       "                          SimilarIndex30  \\\n",
       "181                                [256]   \n",
       "349                                   []   \n",
       "306                           [338, 341]   \n",
       "192  [198, 228, 287, 293, 306, 338, 341]   \n",
       "200                                   []   \n",
       "173                                   []   \n",
       "29                                    []   \n",
       "133                                   []   \n",
       "74                                    []   \n",
       "99                                    []   \n",
       "\n",
       "                                        SimilarIndex20  \\\n",
       "181                                    [233, 256, 358]   \n",
       "349                                                 []   \n",
       "306                                    [325, 338, 341]   \n",
       "192  [193, 197, 198, 207, 213, 215, 228, 236, 243, ...   \n",
       "200                                                 []   \n",
       "173  [178, 187, 257, 260, 263, 286, 295, 299, 315, ...   \n",
       "29                                                  []   \n",
       "133  [144, 151, 153, 154, 160, 174, 178, 187, 206, ...   \n",
       "74                                               [218]   \n",
       "99                                               [336]   \n",
       "\n",
       "                                        SimilarIndex40  \n",
       "181                                    [233, 256, 358]  \n",
       "349                                                 []  \n",
       "306                                    [325, 338, 341]  \n",
       "192  [193, 197, 198, 207, 213, 215, 228, 236, 243, ...  \n",
       "200                                                 []  \n",
       "173  [178, 187, 257, 260, 263, 286, 295, 299, 315, ...  \n",
       "29                                                  []  \n",
       "133  [144, 151, 153, 154, 160, 174, 178, 187, 206, ...  \n",
       "74                                               [218]  \n",
       "99                                               [336]  "
      ]
     },
     "execution_count": 13,
     "metadata": {},
     "output_type": "execute_result"
    }
   ],
   "source": [
    "flower_data.sample(10)"
   ]
  },
  {
   "cell_type": "markdown",
   "metadata": {},
   "source": [
    "---\n",
    "## - NLP towards network graph building"
   ]
  },
  {
   "cell_type": "markdown",
   "metadata": {},
   "source": [
    "---\n",
    "#### Using AFINN DICTIONARY for sentiment analysis"
   ]
  },
  {
   "cell_type": "code",
   "execution_count": 41,
   "metadata": {},
   "outputs": [],
   "source": [
    "path = \"../External/afinn-master/afinn/data/AFINN-111.txt\"\n",
    "word_data_afinn = pd.read_csv(path, delimiter=\"\\t\", header=None, names=[\"Word\", \"Score\"])"
   ]
  },
  {
   "cell_type": "code",
   "execution_count": 42,
   "metadata": {},
   "outputs": [
    {
     "data": {
      "text/html": [
       "<div>\n",
       "<style scoped>\n",
       "    .dataframe tbody tr th:only-of-type {\n",
       "        vertical-align: middle;\n",
       "    }\n",
       "\n",
       "    .dataframe tbody tr th {\n",
       "        vertical-align: top;\n",
       "    }\n",
       "\n",
       "    .dataframe thead th {\n",
       "        text-align: right;\n",
       "    }\n",
       "</style>\n",
       "<table border=\"1\" class=\"dataframe\">\n",
       "  <thead>\n",
       "    <tr style=\"text-align: right;\">\n",
       "      <th></th>\n",
       "      <th>Word</th>\n",
       "      <th>Score</th>\n",
       "    </tr>\n",
       "  </thead>\n",
       "  <tbody>\n",
       "    <tr>\n",
       "      <th>962</th>\n",
       "      <td>fatality</td>\n",
       "      <td>-3</td>\n",
       "    </tr>\n",
       "    <tr>\n",
       "      <th>849</th>\n",
       "      <td>enlightens</td>\n",
       "      <td>2</td>\n",
       "    </tr>\n",
       "    <tr>\n",
       "      <th>1907</th>\n",
       "      <td>retreat</td>\n",
       "      <td>-1</td>\n",
       "    </tr>\n",
       "    <tr>\n",
       "      <th>2137</th>\n",
       "      <td>strengthening</td>\n",
       "      <td>2</td>\n",
       "    </tr>\n",
       "    <tr>\n",
       "      <th>1204</th>\n",
       "      <td>hopefully</td>\n",
       "      <td>2</td>\n",
       "    </tr>\n",
       "    <tr>\n",
       "      <th>1964</th>\n",
       "      <td>scapegoat</td>\n",
       "      <td>-2</td>\n",
       "    </tr>\n",
       "    <tr>\n",
       "      <th>370</th>\n",
       "      <td>chances</td>\n",
       "      <td>2</td>\n",
       "    </tr>\n",
       "    <tr>\n",
       "      <th>1947</th>\n",
       "      <td>sadden</td>\n",
       "      <td>-2</td>\n",
       "    </tr>\n",
       "    <tr>\n",
       "      <th>1296</th>\n",
       "      <td>infected</td>\n",
       "      <td>-2</td>\n",
       "    </tr>\n",
       "    <tr>\n",
       "      <th>792</th>\n",
       "      <td>drunk</td>\n",
       "      <td>-2</td>\n",
       "    </tr>\n",
       "  </tbody>\n",
       "</table>\n",
       "</div>"
      ],
      "text/plain": [
       "               Word  Score\n",
       "962        fatality     -3\n",
       "849      enlightens      2\n",
       "1907        retreat     -1\n",
       "2137  strengthening      2\n",
       "1204      hopefully      2\n",
       "1964      scapegoat     -2\n",
       "370         chances      2\n",
       "1947         sadden     -2\n",
       "1296       infected     -2\n",
       "792           drunk     -2"
      ]
     },
     "execution_count": 42,
     "metadata": {},
     "output_type": "execute_result"
    }
   ],
   "source": [
    "word_data_afinn.sample(n = 10)"
   ]
  },
  {
   "cell_type": "code",
   "execution_count": 43,
   "metadata": {},
   "outputs": [],
   "source": [
    "def afinn_score(sentence):\n",
    "    split_sentence = sentence.split(\" \")\n",
    "    total_score = word_data_afinn.Score[word_data_afinn.Word.isin(split_sentence)].sum()\n",
    "    return total_score"
   ]
  },
  {
   "cell_type": "code",
   "execution_count": 44,
   "metadata": {},
   "outputs": [],
   "source": [
    "flower_data['AfinnScore'] = flower_data.Meaning.apply(afinn_score)"
   ]
  },
  {
   "cell_type": "code",
   "execution_count": 45,
   "metadata": {},
   "outputs": [
    {
     "data": {
      "text/html": [
       "<div>\n",
       "<style scoped>\n",
       "    .dataframe tbody tr th:only-of-type {\n",
       "        vertical-align: middle;\n",
       "    }\n",
       "\n",
       "    .dataframe tbody tr th {\n",
       "        vertical-align: top;\n",
       "    }\n",
       "\n",
       "    .dataframe thead th {\n",
       "        text-align: right;\n",
       "    }\n",
       "</style>\n",
       "<table border=\"1\" class=\"dataframe\">\n",
       "  <thead>\n",
       "    <tr style=\"text-align: right;\">\n",
       "      <th></th>\n",
       "      <th>Flower</th>\n",
       "      <th>Meaning</th>\n",
       "      <th>SimilarIndex30</th>\n",
       "      <th>SimilarIndex20</th>\n",
       "      <th>SimilarIndex40</th>\n",
       "      <th>AfinnScore</th>\n",
       "    </tr>\n",
       "  </thead>\n",
       "  <tbody>\n",
       "    <tr>\n",
       "      <th>50</th>\n",
       "      <td>Bird of paradise flower</td>\n",
       "      <td>good perspective</td>\n",
       "      <td>[86, 154, 174, 325]</td>\n",
       "      <td>[51, 86, 91, 92, 122, 132, 154, 157, 174, 203,...</td>\n",
       "      <td>[174]</td>\n",
       "      <td>3</td>\n",
       "    </tr>\n",
       "    <tr>\n",
       "      <th>144</th>\n",
       "      <td>Forget-me-not</td>\n",
       "      <td>true love</td>\n",
       "      <td>[151, 153, 160, 169, 178, 187, 193, 206, 207, ...</td>\n",
       "      <td>[151, 153, 160, 166, 168, 169, 173, 178, 187, ...</td>\n",
       "      <td>[260, 344, 187, 151, 153, 160]</td>\n",
       "      <td>5</td>\n",
       "    </tr>\n",
       "    <tr>\n",
       "      <th>357</th>\n",
       "      <td>Witch-hazel</td>\n",
       "      <td>a magic spell</td>\n",
       "      <td>[]</td>\n",
       "      <td>[361]</td>\n",
       "      <td>[]</td>\n",
       "      <td>0</td>\n",
       "    </tr>\n",
       "    <tr>\n",
       "      <th>81</th>\n",
       "      <td>Carnation [mauve]</td>\n",
       "      <td>dreams of fantasy</td>\n",
       "      <td>[167, 180, 212, 247, 252, 350]</td>\n",
       "      <td>[85, 88, 92, 98, 99, 100, 101, 108, 119, 125, ...</td>\n",
       "      <td>[252, 350, 212]</td>\n",
       "      <td>1</td>\n",
       "    </tr>\n",
       "    <tr>\n",
       "      <th>96</th>\n",
       "      <td>China aster</td>\n",
       "      <td>fidelity</td>\n",
       "      <td>[177, 349]</td>\n",
       "      <td>[177, 313, 349]</td>\n",
       "      <td>[177, 349]</td>\n",
       "      <td>0</td>\n",
       "    </tr>\n",
       "    <tr>\n",
       "      <th>179</th>\n",
       "      <td>Jonquil</td>\n",
       "      <td>return my affection</td>\n",
       "      <td>[197, 281]</td>\n",
       "      <td>[187, 197, 206, 228, 236, 257, 260, 263, 270, ...</td>\n",
       "      <td>[]</td>\n",
       "      <td>3</td>\n",
       "    </tr>\n",
       "    <tr>\n",
       "      <th>12</th>\n",
       "      <td>Anemone</td>\n",
       "      <td>anticipation</td>\n",
       "      <td>[]</td>\n",
       "      <td>[306, 338]</td>\n",
       "      <td>[]</td>\n",
       "      <td>1</td>\n",
       "    </tr>\n",
       "    <tr>\n",
       "      <th>330</th>\n",
       "      <td>Tulip [purple]</td>\n",
       "      <td>rebirth</td>\n",
       "      <td>[]</td>\n",
       "      <td>[]</td>\n",
       "      <td>[]</td>\n",
       "      <td>0</td>\n",
       "    </tr>\n",
       "    <tr>\n",
       "      <th>172</th>\n",
       "      <td>Hydrangea</td>\n",
       "      <td>heartlessness (negative)</td>\n",
       "      <td>[194]</td>\n",
       "      <td>[194]</td>\n",
       "      <td>[]</td>\n",
       "      <td>0</td>\n",
       "    </tr>\n",
       "    <tr>\n",
       "      <th>265</th>\n",
       "      <td>Rose [white]</td>\n",
       "      <td>innocence</td>\n",
       "      <td>[268]</td>\n",
       "      <td>[268]</td>\n",
       "      <td>[268]</td>\n",
       "      <td>0</td>\n",
       "    </tr>\n",
       "  </tbody>\n",
       "</table>\n",
       "</div>"
      ],
      "text/plain": [
       "                      Flower                    Meaning  \\\n",
       "50   Bird of paradise flower           good perspective   \n",
       "144            Forget-me-not                  true love   \n",
       "357              Witch-hazel              a magic spell   \n",
       "81         Carnation [mauve]          dreams of fantasy   \n",
       "96               China aster                   fidelity   \n",
       "179                  Jonquil        return my affection   \n",
       "12                   Anemone               anticipation   \n",
       "330           Tulip [purple]                    rebirth   \n",
       "172                Hydrangea   heartlessness (negative)   \n",
       "265             Rose [white]                  innocence   \n",
       "\n",
       "                                        SimilarIndex30  \\\n",
       "50                                 [86, 154, 174, 325]   \n",
       "144  [151, 153, 160, 169, 178, 187, 193, 206, 207, ...   \n",
       "357                                                 []   \n",
       "81                      [167, 180, 212, 247, 252, 350]   \n",
       "96                                          [177, 349]   \n",
       "179                                         [197, 281]   \n",
       "12                                                  []   \n",
       "330                                                 []   \n",
       "172                                              [194]   \n",
       "265                                              [268]   \n",
       "\n",
       "                                        SimilarIndex20  \\\n",
       "50   [51, 86, 91, 92, 122, 132, 154, 157, 174, 203,...   \n",
       "144  [151, 153, 160, 166, 168, 169, 173, 178, 187, ...   \n",
       "357                                              [361]   \n",
       "81   [85, 88, 92, 98, 99, 100, 101, 108, 119, 125, ...   \n",
       "96                                     [177, 313, 349]   \n",
       "179  [187, 197, 206, 228, 236, 257, 260, 263, 270, ...   \n",
       "12                                          [306, 338]   \n",
       "330                                                 []   \n",
       "172                                              [194]   \n",
       "265                                              [268]   \n",
       "\n",
       "                     SimilarIndex40  AfinnScore  \n",
       "50                            [174]           3  \n",
       "144  [260, 344, 187, 151, 153, 160]           5  \n",
       "357                              []           0  \n",
       "81                  [252, 350, 212]           1  \n",
       "96                       [177, 349]           0  \n",
       "179                              []           3  \n",
       "12                               []           1  \n",
       "330                              []           0  \n",
       "172                              []           0  \n",
       "265                           [268]           0  "
      ]
     },
     "execution_count": 45,
     "metadata": {},
     "output_type": "execute_result"
    }
   ],
   "source": [
    "flower_data.sample(n=10)"
   ]
  },
  {
   "cell_type": "markdown",
   "metadata": {},
   "source": [
    "---\n",
    "#### Using TEXTBLOB for semantic meaning comparison"
   ]
  },
  {
   "cell_type": "code",
   "execution_count": 19,
   "metadata": {},
   "outputs": [
    {
     "data": {
      "text/plain": [
       "[('Python', 'NNP'),\n",
       " ('is', 'VBZ'),\n",
       " ('a', 'DT'),\n",
       " ('high-level', 'JJ'),\n",
       " ('general-purpose', 'JJ'),\n",
       " ('programming', 'NN'),\n",
       " ('language', 'NN')]"
      ]
     },
     "execution_count": 19,
     "metadata": {},
     "output_type": "execute_result"
    }
   ],
   "source": [
    "wiki = TextBlob(\"Python is a high-level, general-purpose programming language.\")\n",
    "wiki.tags"
   ]
  },
  {
   "cell_type": "code",
   "execution_count": 20,
   "metadata": {},
   "outputs": [
    {
     "data": {
      "text/plain": [
       "Sentiment(polarity=0.0, subjectivity=0.0)"
      ]
     },
     "execution_count": 20,
     "metadata": {},
     "output_type": "execute_result"
    },
    {
     "data": {
      "text/plain": [
       "Sentiment(polarity=-0.1, subjectivity=0.2)"
      ]
     },
     "execution_count": 20,
     "metadata": {},
     "output_type": "execute_result"
    }
   ],
   "source": [
    "wiki.sentiment\n",
    "TextBlob(\"my regrets follow you to the grave\").sentiment"
   ]
  },
  {
   "cell_type": "code",
   "execution_count": 21,
   "metadata": {},
   "outputs": [
    {
     "data": {
      "text/plain": [
       "WordList(['Python', 'is', 'a', 'high-level', 'general-purpose', 'programming', 'language'])"
      ]
     },
     "execution_count": 21,
     "metadata": {},
     "output_type": "execute_result"
    }
   ],
   "source": [
    "a = wiki.words\n",
    "a"
   ]
  },
  {
   "cell_type": "code",
   "execution_count": 22,
   "metadata": {},
   "outputs": [
    {
     "data": {
      "text/plain": [
       "'program'"
      ]
     },
     "execution_count": 22,
     "metadata": {},
     "output_type": "execute_result"
    }
   ],
   "source": [
    "# Programming\n",
    "a[5].lemmatize('v')"
   ]
  },
  {
   "cell_type": "markdown",
   "metadata": {},
   "source": [
    "Get the highest comparison score for each synsets of a word\n",
    "Limit to nouns words"
   ]
  },
  {
   "cell_type": "code",
   "execution_count": 23,
   "metadata": {
    "scrolled": true
   },
   "outputs": [
    {
     "data": {
      "text/plain": [
       "['a similar kind',\n",
       " 'a kind of person',\n",
       " 'prefer or wish to do something',\n",
       " 'find enjoyable or agreeable',\n",
       " 'be fond of',\n",
       " 'feel about or towards; consider, evaluate, or regard',\n",
       " 'want to have',\n",
       " 'resembling or similar; having the same or some of the same characteristics; often used in combination',\n",
       " 'equal in amount or value',\n",
       " 'having the same or similar characteristics',\n",
       " 'conforming in every respect']"
      ]
     },
     "execution_count": 23,
     "metadata": {},
     "output_type": "execute_result"
    },
    {
     "data": {
      "text/plain": [
       "['a strong positive emotion of regard and affection',\n",
       " 'any object of warm affection or devotion; ',\n",
       " 'a beloved person; used as terms of endearment',\n",
       " 'a deep feeling of sexual desire and attraction',\n",
       " 'a score of zero in tennis or squash',\n",
       " 'sexual activities (often including sexual intercourse) between two people',\n",
       " 'have a great affection or liking for',\n",
       " 'get pleasure from',\n",
       " 'be enamored or in love with',\n",
       " 'have sexual intercourse with']"
      ]
     },
     "execution_count": 23,
     "metadata": {},
     "output_type": "execute_result"
    },
    {
     "name": "stdout",
     "output_type": "stream",
     "text": [
      "Similarity: 0.08333333333333333\n"
     ]
    }
   ],
   "source": [
    "textblob.Word(\"like\").definitions\n",
    "textblob.Word(\"Love\").definitions\n",
    "\n",
    "neverendsyn = textblob.Word(\"like\").synsets\n",
    "lovesyn = textblob.Word(\"Love\").synsets\n",
    "\n",
    "print(\"Similarity:\", lovesyn[6].path_similarity(neverendsyn[0]))"
   ]
  },
  {
   "cell_type": "code",
   "execution_count": 24,
   "metadata": {},
   "outputs": [
    {
     "data": {
      "text/plain": [
       "['frugality in the expenditure of money or resources']"
      ]
     },
     "execution_count": 24,
     "metadata": {},
     "output_type": "execute_result"
    },
    {
     "data": {
      "text/plain": [
       "['the system of production and distribution and consumption',\n",
       " 'the efficient use of resources',\n",
       " 'frugality in the expenditure of money or resources',\n",
       " 'an act of economizing; reduction in cost']"
      ]
     },
     "execution_count": 24,
     "metadata": {},
     "output_type": "execute_result"
    }
   ],
   "source": [
    "textblob.Word(\"thriftiness\").definitions\n",
    "textblob.Word(\"economy\").definitions"
   ]
  },
  {
   "cell_type": "code",
   "execution_count": 25,
   "metadata": {},
   "outputs": [],
   "source": [
    "stop_words = set(stopwords.words('english'))"
   ]
  },
  {
   "cell_type": "code",
   "execution_count": 26,
   "metadata": {},
   "outputs": [],
   "source": [
    "def clean_stopwords(sentence, stopwords):\n",
    "    clean_sentence = []\n",
    "    for word in sentence.split(\" \"):\n",
    "        if word not in stopwords:\n",
    "            clean_sentence.append(word)\n",
    "    return \" \".join(clean_sentence)"
   ]
  },
  {
   "cell_type": "code",
   "execution_count": 27,
   "metadata": {},
   "outputs": [
    {
     "data": {
      "text/plain": [
       "'regrets follow grave'"
      ]
     },
     "execution_count": 27,
     "metadata": {},
     "output_type": "execute_result"
    },
    {
     "data": {
      "text/plain": [
       "WordList(['Love', 'between', 'two', 'woman'])"
      ]
     },
     "execution_count": 27,
     "metadata": {},
     "output_type": "execute_result"
    }
   ],
   "source": [
    "clean_stopwords(\"my regrets follow you to the grave\", stop_words)\n",
    "ablob = TextBlob(\"Love between two woman.\")\n",
    "ablob.words"
   ]
  },
  {
   "cell_type": "code",
   "execution_count": 28,
   "metadata": {},
   "outputs": [],
   "source": [
    "# Returns the highest similarity score between two sentences (with 1 being very similar, 0 being different).\n",
    "def compare_meaning_sentence(sentence1, sentence2, stopwords):\n",
    "    blob1 = TextBlob(clean_stopwords(sentence1, stopwords))\n",
    "    blob2 = TextBlob(clean_stopwords(sentence2, stopwords))\n",
    "    nb_words = len(blob1.words) + len(blob2.words)\n",
    "    \n",
    "    similarity_score = 0\n",
    "    for word1 in blob1.words:\n",
    "        for word2 in blob2.words:\n",
    "            similarity_score += compare_meaning_word(word1, word2)\n",
    "    return similarity_score / nb_words\n",
    "                             \n",
    "# Returns the highest similarity score between two words (with 1 being very similar, 0 being different).                             \n",
    "def compare_meaning_word(word1, word2):\n",
    "    highest_similarity_score = 0\n",
    "    \n",
    "    for synset1 in word1.synsets:\n",
    "        for synset2 in word2.synsets:\n",
    "            similarity_score = synset1.path_similarity(synset2)\n",
    "            \n",
    "            if(similarity_score != None and similarity_score > highest_similarity_score):\n",
    "                #print(synset1, synset2, similarity_score)\n",
    "                highest_similarity_score = similarity_score\n",
    "                \n",
    "    return highest_similarity_score\n",
    "\n"
   ]
  },
  {
   "cell_type": "code",
   "execution_count": 33,
   "metadata": {},
   "outputs": [
    {
     "data": {
      "text/plain": [
       "['c', 'a', 'b']"
      ]
     },
     "execution_count": 33,
     "metadata": {},
     "output_type": "execute_result"
    }
   ],
   "source": [
    "numbers = {}\n",
    "numbers['a'] = 4\n",
    "numbers['b'] = 2\n",
    "numbers['c'] = 7\n",
    "sorted(numbers, key = numbers.get, reverse=True)\n",
    "#sorted(numbers.values())"
   ]
  },
  {
   "cell_type": "code",
   "execution_count": 39,
   "metadata": {},
   "outputs": [],
   "source": [
    "# Builds the edge network connection with respect to sentences similarities.\n",
    "# The similarity_threshold refers to the lower limit of similarity score that is considered similar.\n",
    "def index_flower_similarity(similarity_threshold, stopwords = stop_words, link_limit = 6):\n",
    "    similarities = []\n",
    "    \n",
    "    for i in range(0, len(flower_data)):\n",
    "        similar_indexes = []\n",
    "        similar_index_score = {}\n",
    "        \n",
    "        for j in range(i+1, len(flower_data)):\n",
    "            #print(\"indexes:\", i, j)\n",
    "            score = compare_meaning_sentence(flower_data['Meaning'].iloc[i], flower_data['Meaning'].iloc[j], stop_words)\n",
    "            \n",
    "            if score > similarity_threshold:\n",
    "                similar_indexes.append(j)\n",
    "                similar_index_score[j] = score\n",
    "                \n",
    "        similar_index_score = sorted(similar_index_score, key = similar_index_score.get, reverse=True)\n",
    "        del similar_index_score[link_limit:]\n",
    "        \n",
    "        similarities.append(similar_index_score)\n",
    "        \n",
    "    return similarities"
   ]
  },
  {
   "cell_type": "markdown",
   "metadata": {},
   "source": [
    "#### Adding to the csv the similarity nodes with a threshold of 0.4"
   ]
  },
  {
   "cell_type": "code",
   "execution_count": 46,
   "metadata": {},
   "outputs": [],
   "source": [
    "#network_links = index_flower_similarity(0.4)\n",
    "flower_data['SimilarIndex40'] = pd.Series(network_links)\n",
    "flower_data.to_csv(\"../Data/General/flower_cleaned.csv\", sep=\";\", index = False)"
   ]
  },
  {
   "cell_type": "code",
   "execution_count": 23,
   "metadata": {
    "scrolled": true
   },
   "outputs": [
    {
     "data": {
      "text/html": [
       "<div>\n",
       "<style scoped>\n",
       "    .dataframe tbody tr th:only-of-type {\n",
       "        vertical-align: middle;\n",
       "    }\n",
       "\n",
       "    .dataframe tbody tr th {\n",
       "        vertical-align: top;\n",
       "    }\n",
       "\n",
       "    .dataframe thead th {\n",
       "        text-align: right;\n",
       "    }\n",
       "</style>\n",
       "<table border=\"1\" class=\"dataframe\">\n",
       "  <thead>\n",
       "    <tr style=\"text-align: right;\">\n",
       "      <th></th>\n",
       "      <th>Flower</th>\n",
       "      <th>Meaning</th>\n",
       "    </tr>\n",
       "  </thead>\n",
       "  <tbody>\n",
       "    <tr>\n",
       "      <th>0</th>\n",
       "      <td>Acacia</td>\n",
       "      <td>secret love</td>\n",
       "    </tr>\n",
       "    <tr>\n",
       "      <th>1</th>\n",
       "      <td>Acanthus</td>\n",
       "      <td>art</td>\n",
       "    </tr>\n",
       "    <tr>\n",
       "      <th>2</th>\n",
       "      <td>Aconite</td>\n",
       "      <td>misanthropy</td>\n",
       "    </tr>\n",
       "    <tr>\n",
       "      <th>3</th>\n",
       "      <td>Agrimony</td>\n",
       "      <td>thankfulness</td>\n",
       "    </tr>\n",
       "    <tr>\n",
       "      <th>4</th>\n",
       "      <td>Aloe</td>\n",
       "      <td>grief</td>\n",
       "    </tr>\n",
       "    <tr>\n",
       "      <th>5</th>\n",
       "      <td>Almond</td>\n",
       "      <td>promise</td>\n",
       "    </tr>\n",
       "    <tr>\n",
       "      <th>6</th>\n",
       "      <td>Amaranth (Globe)</td>\n",
       "      <td>immortal love</td>\n",
       "    </tr>\n",
       "    <tr>\n",
       "      <th>7</th>\n",
       "      <td>Amaranth</td>\n",
       "      <td>immortality</td>\n",
       "    </tr>\n",
       "    <tr>\n",
       "      <th>8</th>\n",
       "      <td>Amaryllis</td>\n",
       "      <td>pride</td>\n",
       "    </tr>\n",
       "    <tr>\n",
       "      <th>9</th>\n",
       "      <td>Ambrosia</td>\n",
       "      <td>love is reciprocated</td>\n",
       "    </tr>\n",
       "  </tbody>\n",
       "</table>\n",
       "</div>"
      ],
      "text/plain": [
       "             Flower               Meaning\n",
       "0            Acacia           secret love\n",
       "1          Acanthus                   art\n",
       "2           Aconite           misanthropy\n",
       "3          Agrimony          thankfulness\n",
       "4              Aloe                 grief\n",
       "5            Almond               promise\n",
       "6  Amaranth (Globe)         immortal love\n",
       "7          Amaranth           immortality\n",
       "8         Amaryllis                 pride\n",
       "9          Ambrosia  love is reciprocated"
      ]
     },
     "execution_count": 23,
     "metadata": {},
     "output_type": "execute_result"
    }
   ],
   "source": [
    "flower_data.head(10)"
   ]
  },
  {
   "cell_type": "markdown",
   "metadata": {},
   "source": [
    "#### Adding to the csv the similarity nodes with a threshold of 0.3"
   ]
  },
  {
   "cell_type": "code",
   "execution_count": 24,
   "metadata": {},
   "outputs": [],
   "source": [
    "network_links = index_flower_similarity(0.3)\n",
    "flower_data['SimilarIndex30'] = pd.Series(network_links)"
   ]
  },
  {
   "cell_type": "code",
   "execution_count": 25,
   "metadata": {},
   "outputs": [],
   "source": [
    "flower_data.to_csv(\"../Data/General/flower_cleaned.csv\", sep=\";\", index = False)"
   ]
  },
  {
   "cell_type": "markdown",
   "metadata": {},
   "source": [
    "#### Adding to the csv the similarity nodes with a threshold of 0.2"
   ]
  },
  {
   "cell_type": "code",
   "execution_count": 26,
   "metadata": {},
   "outputs": [],
   "source": [
    "network_links = index_flower_similarity(0.2)\n",
    "flower_data['SimilarIndex20'] = pd.Series(network_links)\n",
    "flower_data.to_csv(\"../Data/General/flower_cleaned.csv\", sep=\";\", index = False)"
   ]
  }
 ],
 "metadata": {
  "kernelspec": {
   "display_name": "Python 3",
   "language": "python",
   "name": "python3"
  },
  "language_info": {
   "codemirror_mode": {
    "name": "ipython",
    "version": 3
   },
   "file_extension": ".py",
   "mimetype": "text/x-python",
   "name": "python",
   "nbconvert_exporter": "python",
   "pygments_lexer": "ipython3",
   "version": "3.6.5"
  }
 },
 "nbformat": 4,
 "nbformat_minor": 2
}
