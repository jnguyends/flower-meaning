{
 "cells": [
  {
   "cell_type": "code",
   "execution_count": 2,
   "metadata": {},
   "outputs": [],
   "source": [
    "import pandas as pd\n",
    "import numpy as np\n",
    "import plotly\n",
    "import re\n",
    "import math\n",
    "import textblob\n",
    "from textblob import TextBlob\n",
    "from textblob import Blobber\n",
    "from textblob.wordnet import Synset"
   ]
  },
  {
   "cell_type": "code",
   "execution_count": 3,
   "metadata": {},
   "outputs": [
    {
     "name": "stdout",
     "output_type": "stream",
     "text": [
      "[nltk_data] Downloading package stopwords to\n",
      "[nltk_data]     C:\\Users\\Julie\\AppData\\Roaming\\nltk_data...\n",
      "[nltk_data]   Package stopwords is already up-to-date!\n"
     ]
    }
   ],
   "source": [
    "import nltk\n",
    "nltk.download('stopwords')\n",
    "from nltk.corpus import stopwords"
   ]
  },
  {
   "cell_type": "code",
   "execution_count": 4,
   "metadata": {},
   "outputs": [],
   "source": [
    "from IPython.core.interactiveshell import InteractiveShell\n",
    "InteractiveShell.ast_node_interactivity = \"all\"\n",
    "%matplotlib inline"
   ]
  },
  {
   "cell_type": "markdown",
   "metadata": {},
   "source": [
    "# To do: \n",
    "- Separate by \"or\" and \";\" also!\n",
    "- *Polarity check before meaning check because of stop words processing should be better 'v' (kinda done)*"
   ]
  },
  {
   "cell_type": "markdown",
   "metadata": {},
   "source": [
    "#### Reading the pre-cleaned data"
   ]
  },
  {
   "cell_type": "code",
   "execution_count": 5,
   "metadata": {},
   "outputs": [],
   "source": [
    "flower_data = pd.read_csv(\"../Data/General/flower_cleaned.csv\", error_bad_lines=False, delimiter=\";\")"
   ]
  },
  {
   "cell_type": "code",
   "execution_count": 6,
   "metadata": {},
   "outputs": [
    {
     "data": {
      "text/html": [
       "<div>\n",
       "<style scoped>\n",
       "    .dataframe tbody tr th:only-of-type {\n",
       "        vertical-align: middle;\n",
       "    }\n",
       "\n",
       "    .dataframe tbody tr th {\n",
       "        vertical-align: top;\n",
       "    }\n",
       "\n",
       "    .dataframe thead th {\n",
       "        text-align: right;\n",
       "    }\n",
       "</style>\n",
       "<table border=\"1\" class=\"dataframe\">\n",
       "  <thead>\n",
       "    <tr style=\"text-align: right;\">\n",
       "      <th></th>\n",
       "      <th>Flower</th>\n",
       "      <th>Meaning</th>\n",
       "      <th>AfinnScore</th>\n",
       "      <th>SimilarIndex40</th>\n",
       "      <th>SimilarIndex30</th>\n",
       "      <th>SimilarIndex20</th>\n",
       "    </tr>\n",
       "  </thead>\n",
       "  <tbody>\n",
       "    <tr>\n",
       "      <th>83</th>\n",
       "      <td>Cherry blossom</td>\n",
       "      <td>a good education</td>\n",
       "      <td>3</td>\n",
       "      <td>[]</td>\n",
       "      <td>[148, 168, 315]</td>\n",
       "      <td>[88, 92, 117, 118, 148, 151, 168, 181, 197, 19...</td>\n",
       "    </tr>\n",
       "    <tr>\n",
       "      <th>25</th>\n",
       "      <td>Aster</td>\n",
       "      <td>daintiness</td>\n",
       "      <td>0</td>\n",
       "      <td>[]</td>\n",
       "      <td>[]</td>\n",
       "      <td>[117]</td>\n",
       "    </tr>\n",
       "    <tr>\n",
       "      <th>231</th>\n",
       "      <td>Pitch pine blossom</td>\n",
       "      <td>philosophy</td>\n",
       "      <td>0</td>\n",
       "      <td>[]</td>\n",
       "      <td>[]</td>\n",
       "      <td>[]</td>\n",
       "    </tr>\n",
       "    <tr>\n",
       "      <th>227</th>\n",
       "      <td>Peony</td>\n",
       "      <td>honor (in china)</td>\n",
       "      <td>2</td>\n",
       "      <td>[]</td>\n",
       "      <td>[229]</td>\n",
       "      <td>[229, 256, 260, 286, 290, 329]</td>\n",
       "    </tr>\n",
       "    <tr>\n",
       "      <th>90</th>\n",
       "      <td>Chestnut</td>\n",
       "      <td>do me justice</td>\n",
       "      <td>2</td>\n",
       "      <td>[]</td>\n",
       "      <td>[]</td>\n",
       "      <td>[]</td>\n",
       "    </tr>\n",
       "    <tr>\n",
       "      <th>307</th>\n",
       "      <td>Thistle</td>\n",
       "      <td>nobility</td>\n",
       "      <td>0</td>\n",
       "      <td>[]</td>\n",
       "      <td>[]</td>\n",
       "      <td>[]</td>\n",
       "    </tr>\n",
       "    <tr>\n",
       "      <th>325</th>\n",
       "      <td>Tulip [white]</td>\n",
       "      <td>sincerity</td>\n",
       "      <td>2</td>\n",
       "      <td>[]</td>\n",
       "      <td>[]</td>\n",
       "      <td>[]</td>\n",
       "    </tr>\n",
       "    <tr>\n",
       "      <th>205</th>\n",
       "      <td>Moonflower</td>\n",
       "      <td>dreaming of love</td>\n",
       "      <td>3</td>\n",
       "      <td>[206, 208, 236, 245, 250, 253, 256, 274, 286, ...</td>\n",
       "      <td>[206, 208, 218, 236, 245, 250, 253, 256, 274, ...</td>\n",
       "      <td>[206, 208, 211, 216, 218, 221, 222, 227, 229, ...</td>\n",
       "    </tr>\n",
       "    <tr>\n",
       "      <th>153</th>\n",
       "      <td>Gladiolus</td>\n",
       "      <td>conviction</td>\n",
       "      <td>0</td>\n",
       "      <td>[]</td>\n",
       "      <td>[]</td>\n",
       "      <td>[]</td>\n",
       "    </tr>\n",
       "    <tr>\n",
       "      <th>152</th>\n",
       "      <td>Gladiolus</td>\n",
       "      <td>honor</td>\n",
       "      <td>2</td>\n",
       "      <td>[184, 196, 260, 329]</td>\n",
       "      <td>[184, 196, 227, 260, 329]</td>\n",
       "      <td>[176, 184, 196, 227, 259, 260, 310, 329]</td>\n",
       "    </tr>\n",
       "  </tbody>\n",
       "</table>\n",
       "</div>"
      ],
      "text/plain": [
       "                 Flower            Meaning  AfinnScore  \\\n",
       "83       Cherry blossom   a good education           3   \n",
       "25                Aster         daintiness           0   \n",
       "231  Pitch pine blossom         philosophy           0   \n",
       "227               Peony   honor (in china)           2   \n",
       "90             Chestnut      do me justice           2   \n",
       "307             Thistle           nobility           0   \n",
       "325       Tulip [white]          sincerity           2   \n",
       "205          Moonflower   dreaming of love           3   \n",
       "153           Gladiolus         conviction           0   \n",
       "152           Gladiolus              honor           2   \n",
       "\n",
       "                                        SimilarIndex40  \\\n",
       "83                                                  []   \n",
       "25                                                  []   \n",
       "231                                                 []   \n",
       "227                                                 []   \n",
       "90                                                  []   \n",
       "307                                                 []   \n",
       "325                                                 []   \n",
       "205  [206, 208, 236, 245, 250, 253, 256, 274, 286, ...   \n",
       "153                                                 []   \n",
       "152                               [184, 196, 260, 329]   \n",
       "\n",
       "                                        SimilarIndex30  \\\n",
       "83                                     [148, 168, 315]   \n",
       "25                                                  []   \n",
       "231                                                 []   \n",
       "227                                              [229]   \n",
       "90                                                  []   \n",
       "307                                                 []   \n",
       "325                                                 []   \n",
       "205  [206, 208, 218, 236, 245, 250, 253, 256, 274, ...   \n",
       "153                                                 []   \n",
       "152                          [184, 196, 227, 260, 329]   \n",
       "\n",
       "                                        SimilarIndex20  \n",
       "83   [88, 92, 117, 118, 148, 151, 168, 181, 197, 19...  \n",
       "25                                               [117]  \n",
       "231                                                 []  \n",
       "227                     [229, 256, 260, 286, 290, 329]  \n",
       "90                                                  []  \n",
       "307                                                 []  \n",
       "325                                                 []  \n",
       "205  [206, 208, 211, 216, 218, 221, 222, 227, 229, ...  \n",
       "153                                                 []  \n",
       "152           [176, 184, 196, 227, 259, 260, 310, 329]  "
      ]
     },
     "execution_count": 6,
     "metadata": {},
     "output_type": "execute_result"
    }
   ],
   "source": [
    "flower_data.sample(10)"
   ]
  },
  {
   "cell_type": "markdown",
   "metadata": {},
   "source": [
    "---\n",
    "## - NLP towards network graph building"
   ]
  },
  {
   "cell_type": "markdown",
   "metadata": {},
   "source": [
    "---\n",
    "#### Using AFINN DICTIONARY for sentiment analysis"
   ]
  },
  {
   "cell_type": "code",
   "execution_count": 8,
   "metadata": {},
   "outputs": [],
   "source": [
    "path = \"../External/afinn-master/afinn/data/AFINN-111.txt\"\n",
    "word_data_afinn = pd.read_csv(path, delimiter=\"\\t\", header=None, names=[\"Word\", \"Score\"])"
   ]
  },
  {
   "cell_type": "code",
   "execution_count": 9,
   "metadata": {},
   "outputs": [
    {
     "data": {
      "text/html": [
       "<div>\n",
       "<style scoped>\n",
       "    .dataframe tbody tr th:only-of-type {\n",
       "        vertical-align: middle;\n",
       "    }\n",
       "\n",
       "    .dataframe tbody tr th {\n",
       "        vertical-align: top;\n",
       "    }\n",
       "\n",
       "    .dataframe thead th {\n",
       "        text-align: right;\n",
       "    }\n",
       "</style>\n",
       "<table border=\"1\" class=\"dataframe\">\n",
       "  <thead>\n",
       "    <tr style=\"text-align: right;\">\n",
       "      <th></th>\n",
       "      <th>Word</th>\n",
       "      <th>Score</th>\n",
       "    </tr>\n",
       "  </thead>\n",
       "  <tbody>\n",
       "    <tr>\n",
       "      <th>92</th>\n",
       "      <td>agonized</td>\n",
       "      <td>-3</td>\n",
       "    </tr>\n",
       "    <tr>\n",
       "      <th>525</th>\n",
       "      <td>crisis</td>\n",
       "      <td>-3</td>\n",
       "    </tr>\n",
       "    <tr>\n",
       "      <th>1190</th>\n",
       "      <td>hoax</td>\n",
       "      <td>-2</td>\n",
       "    </tr>\n",
       "    <tr>\n",
       "      <th>1128</th>\n",
       "      <td>gullibility</td>\n",
       "      <td>-2</td>\n",
       "    </tr>\n",
       "    <tr>\n",
       "      <th>2254</th>\n",
       "      <td>tout</td>\n",
       "      <td>-2</td>\n",
       "    </tr>\n",
       "    <tr>\n",
       "      <th>257</th>\n",
       "      <td>bereaves</td>\n",
       "      <td>-2</td>\n",
       "    </tr>\n",
       "    <tr>\n",
       "      <th>2193</th>\n",
       "      <td>suspecting</td>\n",
       "      <td>-1</td>\n",
       "    </tr>\n",
       "    <tr>\n",
       "      <th>234</th>\n",
       "      <td>banned</td>\n",
       "      <td>-2</td>\n",
       "    </tr>\n",
       "    <tr>\n",
       "      <th>145</th>\n",
       "      <td>apologize</td>\n",
       "      <td>-1</td>\n",
       "    </tr>\n",
       "    <tr>\n",
       "      <th>1637</th>\n",
       "      <td>opportunity</td>\n",
       "      <td>2</td>\n",
       "    </tr>\n",
       "  </tbody>\n",
       "</table>\n",
       "</div>"
      ],
      "text/plain": [
       "             Word  Score\n",
       "92       agonized     -3\n",
       "525        crisis     -3\n",
       "1190         hoax     -2\n",
       "1128  gullibility     -2\n",
       "2254         tout     -2\n",
       "257      bereaves     -2\n",
       "2193   suspecting     -1\n",
       "234        banned     -2\n",
       "145     apologize     -1\n",
       "1637  opportunity      2"
      ]
     },
     "execution_count": 9,
     "metadata": {},
     "output_type": "execute_result"
    }
   ],
   "source": [
    "word_data_afinn.sample(n = 10)"
   ]
  },
  {
   "cell_type": "code",
   "execution_count": 10,
   "metadata": {},
   "outputs": [],
   "source": [
    "def afinn_score(sentence):\n",
    "    split_sentence = sentence.split(\" \")\n",
    "    total_score = word_data_afinn.Score[word_data_afinn.Word.isin(split_sentence)].sum()\n",
    "    return total_score"
   ]
  },
  {
   "cell_type": "code",
   "execution_count": 11,
   "metadata": {},
   "outputs": [],
   "source": [
    "#flower_data['AfinnScore'] = flower_data.Meaning.apply(afinn_score)"
   ]
  },
  {
   "cell_type": "code",
   "execution_count": 1,
   "metadata": {},
   "outputs": [
    {
     "ename": "NameError",
     "evalue": "name 'flower_data' is not defined",
     "output_type": "error",
     "traceback": [
      "\u001b[1;31m---------------------------------------------------------------------------\u001b[0m",
      "\u001b[1;31mNameError\u001b[0m                                 Traceback (most recent call last)",
      "\u001b[1;32m<ipython-input-1-8208be17411e>\u001b[0m in \u001b[0;36m<module>\u001b[1;34m()\u001b[0m\n\u001b[1;32m----> 1\u001b[1;33m \u001b[0mflower_data\u001b[0m\u001b[1;33m.\u001b[0m\u001b[0msample\u001b[0m\u001b[1;33m(\u001b[0m\u001b[0mn\u001b[0m\u001b[1;33m=\u001b[0m\u001b[1;36m10\u001b[0m\u001b[1;33m)\u001b[0m\u001b[1;33m\u001b[0m\u001b[0m\n\u001b[0m",
      "\u001b[1;31mNameError\u001b[0m: name 'flower_data' is not defined"
     ]
    }
   ],
   "source": [
    "flower_data.sample(n=10)"
   ]
  },
  {
   "cell_type": "markdown",
   "metadata": {},
   "source": [
    "---\n",
    "#### Using TEXTBLOB for semantic meaning comparison"
   ]
  },
  {
   "cell_type": "code",
   "execution_count": 13,
   "metadata": {},
   "outputs": [
    {
     "data": {
      "text/plain": [
       "[('Python', 'NNP'),\n",
       " ('is', 'VBZ'),\n",
       " ('a', 'DT'),\n",
       " ('high-level', 'JJ'),\n",
       " ('general-purpose', 'JJ'),\n",
       " ('programming', 'NN'),\n",
       " ('language', 'NN')]"
      ]
     },
     "execution_count": 13,
     "metadata": {},
     "output_type": "execute_result"
    }
   ],
   "source": [
    "wiki = TextBlob(\"Python is a high-level, general-purpose programming language.\")\n",
    "wiki.tags"
   ]
  },
  {
   "cell_type": "code",
   "execution_count": 14,
   "metadata": {},
   "outputs": [
    {
     "data": {
      "text/plain": [
       "Sentiment(polarity=0.0, subjectivity=0.0)"
      ]
     },
     "execution_count": 14,
     "metadata": {},
     "output_type": "execute_result"
    },
    {
     "data": {
      "text/plain": [
       "Sentiment(polarity=-0.1, subjectivity=0.2)"
      ]
     },
     "execution_count": 14,
     "metadata": {},
     "output_type": "execute_result"
    }
   ],
   "source": [
    "wiki.sentiment\n",
    "TextBlob(\"my regrets follow you to the grave\").sentiment"
   ]
  },
  {
   "cell_type": "code",
   "execution_count": 15,
   "metadata": {},
   "outputs": [
    {
     "data": {
      "text/plain": [
       "WordList(['Python', 'is', 'a', 'high-level', 'general-purpose', 'programming', 'language'])"
      ]
     },
     "execution_count": 15,
     "metadata": {},
     "output_type": "execute_result"
    }
   ],
   "source": [
    "a = wiki.words\n",
    "a"
   ]
  },
  {
   "cell_type": "code",
   "execution_count": 16,
   "metadata": {},
   "outputs": [
    {
     "data": {
      "text/plain": [
       "'program'"
      ]
     },
     "execution_count": 16,
     "metadata": {},
     "output_type": "execute_result"
    }
   ],
   "source": [
    "# Programming\n",
    "a[5].lemmatize('v')"
   ]
  },
  {
   "cell_type": "markdown",
   "metadata": {},
   "source": [
    "Get the highest comparison score for each synsets of a word\n",
    "Limit to nouns words"
   ]
  },
  {
   "cell_type": "code",
   "execution_count": 8,
   "metadata": {
    "scrolled": true
   },
   "outputs": [
    {
     "data": {
      "text/plain": [
       "['a similar kind',\n",
       " 'a kind of person',\n",
       " 'prefer or wish to do something',\n",
       " 'find enjoyable or agreeable',\n",
       " 'be fond of',\n",
       " 'feel about or towards; consider, evaluate, or regard',\n",
       " 'want to have',\n",
       " 'resembling or similar; having the same or some of the same characteristics; often used in combination',\n",
       " 'equal in amount or value',\n",
       " 'having the same or similar characteristics',\n",
       " 'conforming in every respect']"
      ]
     },
     "execution_count": 8,
     "metadata": {},
     "output_type": "execute_result"
    },
    {
     "data": {
      "text/plain": [
       "['a strong positive emotion of regard and affection',\n",
       " 'any object of warm affection or devotion; ',\n",
       " 'a beloved person; used as terms of endearment',\n",
       " 'a deep feeling of sexual desire and attraction',\n",
       " 'a score of zero in tennis or squash',\n",
       " 'sexual activities (often including sexual intercourse) between two people',\n",
       " 'have a great affection or liking for',\n",
       " 'get pleasure from',\n",
       " 'be enamored or in love with',\n",
       " 'have sexual intercourse with']"
      ]
     },
     "execution_count": 8,
     "metadata": {},
     "output_type": "execute_result"
    }
   ],
   "source": [
    "textblob.Word(\"like\").definitions\n",
    "textblob.Word(\"Love\").definitions\n",
    "\n",
    "neverendsyn = textblob.Word(\"like\").synsets\n",
    "lovesyn = textblob.Word(\"Love\").synsets\n",
    "\n",
    "print(\"Similarity:\", lovesyn[6].path_similarity(neverendsyn[0]))"
   ]
  },
  {
   "cell_type": "code",
   "execution_count": 9,
   "metadata": {},
   "outputs": [
    {
     "data": {
      "text/plain": [
       "['frugality in the expenditure of money or resources']"
      ]
     },
     "execution_count": 9,
     "metadata": {},
     "output_type": "execute_result"
    },
    {
     "data": {
      "text/plain": [
       "['the system of production and distribution and consumption',\n",
       " 'the efficient use of resources',\n",
       " 'frugality in the expenditure of money or resources',\n",
       " 'an act of economizing; reduction in cost']"
      ]
     },
     "execution_count": 9,
     "metadata": {},
     "output_type": "execute_result"
    }
   ],
   "source": [
    "textblob.Word(\"thriftiness\").definitions\n",
    "textblob.Word(\"economy\").definitions"
   ]
  },
  {
   "cell_type": "code",
   "execution_count": 18,
   "metadata": {},
   "outputs": [],
   "source": [
    "stop_words = set(stopwords.words('english'))"
   ]
  },
  {
   "cell_type": "code",
   "execution_count": 19,
   "metadata": {},
   "outputs": [],
   "source": [
    "def clean_stopwords(sentence, stopwords):\n",
    "    clean_sentence = []\n",
    "    for word in sentence.split(\" \"):\n",
    "        if word not in stopwords:\n",
    "            clean_sentence.append(word)\n",
    "    return \" \".join(clean_sentence)"
   ]
  },
  {
   "cell_type": "code",
   "execution_count": 20,
   "metadata": {},
   "outputs": [
    {
     "data": {
      "text/plain": [
       "'regrets follow grave'"
      ]
     },
     "execution_count": 20,
     "metadata": {},
     "output_type": "execute_result"
    },
    {
     "data": {
      "text/plain": [
       "WordList(['Love', 'between', 'two', 'woman'])"
      ]
     },
     "execution_count": 20,
     "metadata": {},
     "output_type": "execute_result"
    }
   ],
   "source": [
    "clean_stopwords(\"my regrets follow you to the grave\", stop_words)\n",
    "ablob = TextBlob(\"Love between two woman.\")\n",
    "ablob.words"
   ]
  },
  {
   "cell_type": "code",
   "execution_count": 21,
   "metadata": {},
   "outputs": [],
   "source": [
    "# Returns the highest similarity score between two sentences (with 1 being very similar, 0 being different).\n",
    "def compare_meaning_sentence(sentence1, sentence2, stopwords):\n",
    "    blob1 = TextBlob(clean_stopwords(sentence1, stopwords))\n",
    "    blob2 = TextBlob(clean_stopwords(sentence2, stopwords))\n",
    "    nb_words = len(blob1.words) + len(blob2.words)\n",
    "    \n",
    "    similarity_score = 0\n",
    "    for word1 in blob1.words:\n",
    "        for word2 in blob2.words:\n",
    "            similarity_score += compare_meaning_word(word1, word2)\n",
    "    return similarity_score / nb_words\n",
    "                             \n",
    "# Returns the highest similarity score between two words (with 1 being very similar, 0 being different).                             \n",
    "def compare_meaning_word(word1, word2):\n",
    "    highest_similarity_score = 0\n",
    "    \n",
    "    for synset1 in word1.synsets:\n",
    "        for synset2 in word2.synsets:\n",
    "            similarity_score = synset1.path_similarity(synset2)\n",
    "            \n",
    "            if(similarity_score != None and similarity_score > highest_similarity_score):\n",
    "                #print(synset1, synset2, similarity_score)\n",
    "                highest_similarity_score = similarity_score\n",
    "                \n",
    "    return highest_similarity_score\n",
    "\n"
   ]
  },
  {
   "cell_type": "code",
   "execution_count": 22,
   "metadata": {},
   "outputs": [],
   "source": [
    "# Builds the edge network connection with respect to sentences similarities.\n",
    "# The similarity_threshold refers to the lower limit of similarity score that is considered similar.\n",
    "def index_flower_similarity(similarity_threshold, stopwords = stop_words):\n",
    "    similarities = []\n",
    "    \n",
    "    for i in range(0, len(flower_data)):\n",
    "        similar_indexes = []\n",
    "        for j in range(i+1, len(flower_data)):\n",
    "            #print(\"indexes:\", i, j)\n",
    "            score = compare_meaning_sentence(flower_data['Meaning'].iloc[i], flower_data['Meaning'].iloc[j], stop_words)\n",
    "            \n",
    "            if score > similarity_threshold:\n",
    "                similar_indexes.append(j)\n",
    "                \n",
    "        similarities.append(similar_indexes)\n",
    "    return similarities"
   ]
  },
  {
   "cell_type": "markdown",
   "metadata": {},
   "source": [
    "#### Adding to the csv the similarity nodes with a threshold of 0.4"
   ]
  },
  {
   "cell_type": "code",
   "execution_count": 23,
   "metadata": {},
   "outputs": [],
   "source": [
    "#network_links = index_flower_similarity(0.4)\n",
    "#flower_data['SimilarIndex40'] = pd.Series(network_links)\n",
    "#flower_data.to_csv(\"../Data/General/flower_cleaned.csv\", sep=\";\", index = False)"
   ]
  },
  {
   "cell_type": "code",
   "execution_count": 24,
   "metadata": {
    "scrolled": true
   },
   "outputs": [
    {
     "data": {
      "text/html": [
       "<div>\n",
       "<style scoped>\n",
       "    .dataframe tbody tr th:only-of-type {\n",
       "        vertical-align: middle;\n",
       "    }\n",
       "\n",
       "    .dataframe tbody tr th {\n",
       "        vertical-align: top;\n",
       "    }\n",
       "\n",
       "    .dataframe thead th {\n",
       "        text-align: right;\n",
       "    }\n",
       "</style>\n",
       "<table border=\"1\" class=\"dataframe\">\n",
       "  <thead>\n",
       "    <tr style=\"text-align: right;\">\n",
       "      <th></th>\n",
       "      <th>Flower</th>\n",
       "      <th>Meaning</th>\n",
       "      <th>AfinnScore</th>\n",
       "      <th>SimilarIndex40</th>\n",
       "    </tr>\n",
       "  </thead>\n",
       "  <tbody>\n",
       "    <tr>\n",
       "      <th>0</th>\n",
       "      <td>Acacia</td>\n",
       "      <td>secret love</td>\n",
       "      <td>3</td>\n",
       "      <td>[145, 181]</td>\n",
       "    </tr>\n",
       "    <tr>\n",
       "      <th>1</th>\n",
       "      <td>Acanthus</td>\n",
       "      <td>art</td>\n",
       "      <td>0</td>\n",
       "      <td>[]</td>\n",
       "    </tr>\n",
       "    <tr>\n",
       "      <th>2</th>\n",
       "      <td>Aconite</td>\n",
       "      <td>misanthropy</td>\n",
       "      <td>0</td>\n",
       "      <td>[]</td>\n",
       "    </tr>\n",
       "    <tr>\n",
       "      <th>3</th>\n",
       "      <td>Agrimony</td>\n",
       "      <td>thankfulness</td>\n",
       "      <td>0</td>\n",
       "      <td>[]</td>\n",
       "    </tr>\n",
       "    <tr>\n",
       "      <th>4</th>\n",
       "      <td>Aloe</td>\n",
       "      <td>grief</td>\n",
       "      <td>-2</td>\n",
       "      <td>[112, 201, 263, 293]</td>\n",
       "    </tr>\n",
       "    <tr>\n",
       "      <th>5</th>\n",
       "      <td>Almond</td>\n",
       "      <td>promise</td>\n",
       "      <td>1</td>\n",
       "      <td>[100, 221, 328]</td>\n",
       "    </tr>\n",
       "    <tr>\n",
       "      <th>6</th>\n",
       "      <td>Amaranth (Globe)</td>\n",
       "      <td>immortal love</td>\n",
       "      <td>5</td>\n",
       "      <td>[20, 62, 147, 181, 250]</td>\n",
       "    </tr>\n",
       "    <tr>\n",
       "      <th>7</th>\n",
       "      <td>Amaranth</td>\n",
       "      <td>immortality</td>\n",
       "      <td>0</td>\n",
       "      <td>[]</td>\n",
       "    </tr>\n",
       "    <tr>\n",
       "      <th>8</th>\n",
       "      <td>Amaryllis</td>\n",
       "      <td>pride</td>\n",
       "      <td>0</td>\n",
       "      <td>[]</td>\n",
       "    </tr>\n",
       "    <tr>\n",
       "      <th>9</th>\n",
       "      <td>Ambrosia</td>\n",
       "      <td>love is reciprocated</td>\n",
       "      <td>3</td>\n",
       "      <td>[13, 20, 39, 44, 62, 67, 94, 98, 106, 115, 120...</td>\n",
       "    </tr>\n",
       "  </tbody>\n",
       "</table>\n",
       "</div>"
      ],
      "text/plain": [
       "             Flower               Meaning  AfinnScore  \\\n",
       "0            Acacia           secret love           3   \n",
       "1          Acanthus                   art           0   \n",
       "2           Aconite           misanthropy           0   \n",
       "3          Agrimony          thankfulness           0   \n",
       "4              Aloe                 grief          -2   \n",
       "5            Almond               promise           1   \n",
       "6  Amaranth (Globe)         immortal love           5   \n",
       "7          Amaranth           immortality           0   \n",
       "8         Amaryllis                 pride           0   \n",
       "9          Ambrosia  love is reciprocated           3   \n",
       "\n",
       "                                      SimilarIndex40  \n",
       "0                                         [145, 181]  \n",
       "1                                                 []  \n",
       "2                                                 []  \n",
       "3                                                 []  \n",
       "4                               [112, 201, 263, 293]  \n",
       "5                                    [100, 221, 328]  \n",
       "6                            [20, 62, 147, 181, 250]  \n",
       "7                                                 []  \n",
       "8                                                 []  \n",
       "9  [13, 20, 39, 44, 62, 67, 94, 98, 106, 115, 120...  "
      ]
     },
     "execution_count": 24,
     "metadata": {},
     "output_type": "execute_result"
    }
   ],
   "source": [
    "flower_data.head(10)"
   ]
  },
  {
   "cell_type": "markdown",
   "metadata": {},
   "source": [
    "#### Adding to the csv the similarity nodes with a threshold of 0.3"
   ]
  },
  {
   "cell_type": "code",
   "execution_count": 26,
   "metadata": {},
   "outputs": [
    {
     "ename": "FileNotFoundError",
     "evalue": "[Errno 2] No such file or directory: 'General/flower_cleaned.csv'",
     "output_type": "error",
     "traceback": [
      "\u001b[1;31m---------------------------------------------------------------------------\u001b[0m",
      "\u001b[1;31mFileNotFoundError\u001b[0m                         Traceback (most recent call last)",
      "\u001b[1;32m<ipython-input-26-d286fa3f7fa5>\u001b[0m in \u001b[0;36m<module>\u001b[1;34m()\u001b[0m\n\u001b[0;32m      1\u001b[0m \u001b[0mnetwork_links\u001b[0m \u001b[1;33m=\u001b[0m \u001b[0mindex_flower_similarity\u001b[0m\u001b[1;33m(\u001b[0m\u001b[1;36m0.3\u001b[0m\u001b[1;33m)\u001b[0m\u001b[1;33m\u001b[0m\u001b[0m\n\u001b[0;32m      2\u001b[0m \u001b[0mflower_data\u001b[0m\u001b[1;33m[\u001b[0m\u001b[1;34m'SimilarIndex30'\u001b[0m\u001b[1;33m]\u001b[0m \u001b[1;33m=\u001b[0m \u001b[0mpd\u001b[0m\u001b[1;33m.\u001b[0m\u001b[0mSeries\u001b[0m\u001b[1;33m(\u001b[0m\u001b[0mnetwork_links\u001b[0m\u001b[1;33m)\u001b[0m\u001b[1;33m\u001b[0m\u001b[0m\n\u001b[1;32m----> 3\u001b[1;33m \u001b[0mflower_data\u001b[0m\u001b[1;33m.\u001b[0m\u001b[0mto_csv\u001b[0m\u001b[1;33m(\u001b[0m\u001b[1;34m\"General/flower_cleaned.csv\"\u001b[0m\u001b[1;33m,\u001b[0m \u001b[0msep\u001b[0m\u001b[1;33m=\u001b[0m\u001b[1;34m\";\"\u001b[0m\u001b[1;33m,\u001b[0m \u001b[0mindex\u001b[0m \u001b[1;33m=\u001b[0m \u001b[1;32mFalse\u001b[0m\u001b[1;33m)\u001b[0m\u001b[1;33m\u001b[0m\u001b[0m\n\u001b[0m",
      "\u001b[1;32m~\\Anaconda3\\lib\\site-packages\\pandas\\core\\frame.py\u001b[0m in \u001b[0;36mto_csv\u001b[1;34m(self, path_or_buf, sep, na_rep, float_format, columns, header, index, index_label, mode, encoding, compression, quoting, quotechar, line_terminator, chunksize, tupleize_cols, date_format, doublequote, escapechar, decimal)\u001b[0m\n\u001b[0;32m   1743\u001b[0m                                  \u001b[0mdoublequote\u001b[0m\u001b[1;33m=\u001b[0m\u001b[0mdoublequote\u001b[0m\u001b[1;33m,\u001b[0m\u001b[1;33m\u001b[0m\u001b[0m\n\u001b[0;32m   1744\u001b[0m                                  escapechar=escapechar, decimal=decimal)\n\u001b[1;32m-> 1745\u001b[1;33m         \u001b[0mformatter\u001b[0m\u001b[1;33m.\u001b[0m\u001b[0msave\u001b[0m\u001b[1;33m(\u001b[0m\u001b[1;33m)\u001b[0m\u001b[1;33m\u001b[0m\u001b[0m\n\u001b[0m\u001b[0;32m   1746\u001b[0m \u001b[1;33m\u001b[0m\u001b[0m\n\u001b[0;32m   1747\u001b[0m         \u001b[1;32mif\u001b[0m \u001b[0mpath_or_buf\u001b[0m \u001b[1;32mis\u001b[0m \u001b[1;32mNone\u001b[0m\u001b[1;33m:\u001b[0m\u001b[1;33m\u001b[0m\u001b[0m\n",
      "\u001b[1;32m~\\Anaconda3\\lib\\site-packages\\pandas\\io\\formats\\csvs.py\u001b[0m in \u001b[0;36msave\u001b[1;34m(self)\u001b[0m\n\u001b[0;32m    134\u001b[0m             f, handles = _get_handle(self.path_or_buf, self.mode,\n\u001b[0;32m    135\u001b[0m                                      \u001b[0mencoding\u001b[0m\u001b[1;33m=\u001b[0m\u001b[0mencoding\u001b[0m\u001b[1;33m,\u001b[0m\u001b[1;33m\u001b[0m\u001b[0m\n\u001b[1;32m--> 136\u001b[1;33m                                      compression=None)\n\u001b[0m\u001b[0;32m    137\u001b[0m             \u001b[0mclose\u001b[0m \u001b[1;33m=\u001b[0m \u001b[1;32mTrue\u001b[0m \u001b[1;32mif\u001b[0m \u001b[0mself\u001b[0m\u001b[1;33m.\u001b[0m\u001b[0mcompression\u001b[0m \u001b[1;32mis\u001b[0m \u001b[1;32mNone\u001b[0m \u001b[1;32melse\u001b[0m \u001b[1;32mFalse\u001b[0m\u001b[1;33m\u001b[0m\u001b[0m\n\u001b[0;32m    138\u001b[0m \u001b[1;33m\u001b[0m\u001b[0m\n",
      "\u001b[1;32m~\\Anaconda3\\lib\\site-packages\\pandas\\io\\common.py\u001b[0m in \u001b[0;36m_get_handle\u001b[1;34m(path_or_buf, mode, encoding, compression, memory_map, is_text)\u001b[0m\n\u001b[0;32m    398\u001b[0m         \u001b[1;32melif\u001b[0m \u001b[0mencoding\u001b[0m\u001b[1;33m:\u001b[0m\u001b[1;33m\u001b[0m\u001b[0m\n\u001b[0;32m    399\u001b[0m             \u001b[1;31m# Python 3 and encoding\u001b[0m\u001b[1;33m\u001b[0m\u001b[1;33m\u001b[0m\u001b[0m\n\u001b[1;32m--> 400\u001b[1;33m             \u001b[0mf\u001b[0m \u001b[1;33m=\u001b[0m \u001b[0mopen\u001b[0m\u001b[1;33m(\u001b[0m\u001b[0mpath_or_buf\u001b[0m\u001b[1;33m,\u001b[0m \u001b[0mmode\u001b[0m\u001b[1;33m,\u001b[0m \u001b[0mencoding\u001b[0m\u001b[1;33m=\u001b[0m\u001b[0mencoding\u001b[0m\u001b[1;33m)\u001b[0m\u001b[1;33m\u001b[0m\u001b[0m\n\u001b[0m\u001b[0;32m    401\u001b[0m         \u001b[1;32melif\u001b[0m \u001b[0mis_text\u001b[0m\u001b[1;33m:\u001b[0m\u001b[1;33m\u001b[0m\u001b[0m\n\u001b[0;32m    402\u001b[0m             \u001b[1;31m# Python 3 and no explicit encoding\u001b[0m\u001b[1;33m\u001b[0m\u001b[1;33m\u001b[0m\u001b[0m\n",
      "\u001b[1;31mFileNotFoundError\u001b[0m: [Errno 2] No such file or directory: 'General/flower_cleaned.csv'"
     ]
    }
   ],
   "source": [
    "network_links = index_flower_similarity(0.3)\n",
    "flower_data['SimilarIndex30'] = pd.Series(network_links)"
   ]
  },
  {
   "cell_type": "code",
   "execution_count": 30,
   "metadata": {},
   "outputs": [],
   "source": [
    "flower_data.to_csv(\"../Data/General/flower_cleaned.csv\", sep=\";\", index = False)"
   ]
  },
  {
   "cell_type": "markdown",
   "metadata": {},
   "source": [
    "#### Adding to the csv the similarity nodes with a threshold of 0.2"
   ]
  },
  {
   "cell_type": "code",
   "execution_count": 31,
   "metadata": {},
   "outputs": [],
   "source": [
    "network_links = index_flower_similarity(0.2)\n",
    "flower_data['SimilarIndex20'] = pd.Series(network_links)\n",
    "flower_data.to_csv(\"../Data/General/flower_cleaned.csv\", sep=\";\", index = False)"
   ]
  }
 ],
 "metadata": {
  "kernelspec": {
   "display_name": "Python 3",
   "language": "python",
   "name": "python3"
  },
  "language_info": {
   "codemirror_mode": {
    "name": "ipython",
    "version": 3
   },
   "file_extension": ".py",
   "mimetype": "text/x-python",
   "name": "python",
   "nbconvert_exporter": "python",
   "pygments_lexer": "ipython3",
   "version": "3.6.5"
  }
 },
 "nbformat": 4,
 "nbformat_minor": 2
}
