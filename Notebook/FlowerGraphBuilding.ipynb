{
 "cells": [
  {
   "cell_type": "code",
   "execution_count": 2,
   "metadata": {},
   "outputs": [],
   "source": [
    "import pandas as pd\n",
    "import numpy as np\n",
    "import plotly\n",
    "import re\n",
    "import math\n",
    "import textblob\n",
    "from textblob import TextBlob\n",
    "from textblob import Blobber\n",
    "from textblob.wordnet import Synset"
   ]
  },
  {
   "cell_type": "code",
   "execution_count": 3,
   "metadata": {},
   "outputs": [
    {
     "name": "stdout",
     "output_type": "stream",
     "text": [
      "[nltk_data] Downloading package stopwords to\n",
      "[nltk_data]     C:\\Users\\Julie\\AppData\\Roaming\\nltk_data...\n",
      "[nltk_data]   Package stopwords is already up-to-date!\n"
     ]
    }
   ],
   "source": [
    "import nltk\n",
    "nltk.download('stopwords')\n",
    "from nltk.corpus import stopwords"
   ]
  },
  {
   "cell_type": "code",
   "execution_count": 4,
   "metadata": {},
   "outputs": [],
   "source": [
    "from IPython.core.interactiveshell import InteractiveShell\n",
    "InteractiveShell.ast_node_interactivity = \"all\"\n",
    "%matplotlib inline"
   ]
  },
  {
   "cell_type": "markdown",
   "metadata": {},
   "source": [
    "# To do: \n",
    "- Separate by \"or\" and \";\" also! - Done!\n",
    "- *Polarity check before meaning check because of stop words processing should be better 'v' (kinda done)*"
   ]
  },
  {
   "cell_type": "markdown",
   "metadata": {},
   "source": [
    "#### Reading the pre-cleaned data"
   ]
  },
  {
   "cell_type": "code",
   "execution_count": 5,
   "metadata": {},
   "outputs": [],
   "source": [
    "flower_data = pd.read_csv(\"../Data/General/flower_cleaned.csv\", error_bad_lines=False, delimiter=\";\")"
   ]
  },
  {
   "cell_type": "code",
   "execution_count": 6,
   "metadata": {},
   "outputs": [
    {
     "data": {
      "text/html": [
       "<div>\n",
       "<style scoped>\n",
       "    .dataframe tbody tr th:only-of-type {\n",
       "        vertical-align: middle;\n",
       "    }\n",
       "\n",
       "    .dataframe tbody tr th {\n",
       "        vertical-align: top;\n",
       "    }\n",
       "\n",
       "    .dataframe thead th {\n",
       "        text-align: right;\n",
       "    }\n",
       "</style>\n",
       "<table border=\"1\" class=\"dataframe\">\n",
       "  <thead>\n",
       "    <tr style=\"text-align: right;\">\n",
       "      <th></th>\n",
       "      <th>Flower</th>\n",
       "      <th>Meaning</th>\n",
       "    </tr>\n",
       "  </thead>\n",
       "  <tbody>\n",
       "    <tr>\n",
       "      <th>158</th>\n",
       "      <td>Lily [white]</td>\n",
       "      <td>purity</td>\n",
       "    </tr>\n",
       "    <tr>\n",
       "      <th>370</th>\n",
       "      <td>Zinnia</td>\n",
       "      <td>loyalty</td>\n",
       "    </tr>\n",
       "    <tr>\n",
       "      <th>72</th>\n",
       "      <td>Coreopsis</td>\n",
       "      <td>always cheerful</td>\n",
       "    </tr>\n",
       "    <tr>\n",
       "      <th>179</th>\n",
       "      <td>Mullein</td>\n",
       "      <td>good-nature</td>\n",
       "    </tr>\n",
       "    <tr>\n",
       "      <th>226</th>\n",
       "      <td>Sunflower</td>\n",
       "      <td>loyalty</td>\n",
       "    </tr>\n",
       "    <tr>\n",
       "      <th>69</th>\n",
       "      <td>China aster</td>\n",
       "      <td>love of variety</td>\n",
       "    </tr>\n",
       "    <tr>\n",
       "      <th>363</th>\n",
       "      <td>Sweet Pea</td>\n",
       "      <td>goodbye</td>\n",
       "    </tr>\n",
       "    <tr>\n",
       "      <th>218</th>\n",
       "      <td>Snowdrop</td>\n",
       "      <td>consolation</td>\n",
       "    </tr>\n",
       "    <tr>\n",
       "      <th>155</th>\n",
       "      <td>Lavender</td>\n",
       "      <td>distrust</td>\n",
       "    </tr>\n",
       "    <tr>\n",
       "      <th>287</th>\n",
       "      <td>Aster tataricus</td>\n",
       "      <td>remembrance</td>\n",
       "    </tr>\n",
       "  </tbody>\n",
       "</table>\n",
       "</div>"
      ],
      "text/plain": [
       "              Flower          Meaning\n",
       "158     Lily [white]           purity\n",
       "370           Zinnia          loyalty\n",
       "72         Coreopsis  always cheerful\n",
       "179          Mullein      good-nature\n",
       "226        Sunflower          loyalty\n",
       "69       China aster  love of variety\n",
       "363        Sweet Pea          goodbye\n",
       "218         Snowdrop      consolation\n",
       "155         Lavender         distrust\n",
       "287  Aster tataricus      remembrance"
      ]
     },
     "execution_count": 6,
     "metadata": {},
     "output_type": "execute_result"
    }
   ],
   "source": [
    "flower_data.sample(10)"
   ]
  },
  {
   "cell_type": "markdown",
   "metadata": {},
   "source": [
    "---\n",
    "## - NLP towards network graph building"
   ]
  },
  {
   "cell_type": "markdown",
   "metadata": {},
   "source": [
    "---\n",
    "#### Using AFINN DICTIONARY for sentiment analysis"
   ]
  },
  {
   "cell_type": "code",
   "execution_count": 8,
   "metadata": {},
   "outputs": [],
   "source": [
    "path = \"../External/afinn-master/afinn/data/AFINN-111.txt\"\n",
    "word_data_afinn = pd.read_csv(path, delimiter=\"\\t\", header=None, names=[\"Word\", \"Score\"])"
   ]
  },
  {
   "cell_type": "code",
   "execution_count": 9,
   "metadata": {},
   "outputs": [
    {
     "data": {
      "text/html": [
       "<div>\n",
       "<style scoped>\n",
       "    .dataframe tbody tr th:only-of-type {\n",
       "        vertical-align: middle;\n",
       "    }\n",
       "\n",
       "    .dataframe tbody tr th {\n",
       "        vertical-align: top;\n",
       "    }\n",
       "\n",
       "    .dataframe thead th {\n",
       "        text-align: right;\n",
       "    }\n",
       "</style>\n",
       "<table border=\"1\" class=\"dataframe\">\n",
       "  <thead>\n",
       "    <tr style=\"text-align: right;\">\n",
       "      <th></th>\n",
       "      <th>Word</th>\n",
       "      <th>Score</th>\n",
       "    </tr>\n",
       "  </thead>\n",
       "  <tbody>\n",
       "    <tr>\n",
       "      <th>2124</th>\n",
       "      <td>stolen</td>\n",
       "      <td>-2</td>\n",
       "    </tr>\n",
       "    <tr>\n",
       "      <th>1691</th>\n",
       "      <td>perfectly</td>\n",
       "      <td>3</td>\n",
       "    </tr>\n",
       "    <tr>\n",
       "      <th>726</th>\n",
       "      <td>disputing</td>\n",
       "      <td>-2</td>\n",
       "    </tr>\n",
       "    <tr>\n",
       "      <th>737</th>\n",
       "      <td>disruptive</td>\n",
       "      <td>-2</td>\n",
       "    </tr>\n",
       "    <tr>\n",
       "      <th>1502</th>\n",
       "      <td>matters</td>\n",
       "      <td>1</td>\n",
       "    </tr>\n",
       "    <tr>\n",
       "      <th>1489</th>\n",
       "      <td>made-up</td>\n",
       "      <td>-1</td>\n",
       "    </tr>\n",
       "    <tr>\n",
       "      <th>1409</th>\n",
       "      <td>lagging</td>\n",
       "      <td>-2</td>\n",
       "    </tr>\n",
       "    <tr>\n",
       "      <th>1191</th>\n",
       "      <td>homesick</td>\n",
       "      <td>-2</td>\n",
       "    </tr>\n",
       "    <tr>\n",
       "      <th>1747</th>\n",
       "      <td>praised</td>\n",
       "      <td>3</td>\n",
       "    </tr>\n",
       "    <tr>\n",
       "      <th>836</th>\n",
       "      <td>endorses</td>\n",
       "      <td>2</td>\n",
       "    </tr>\n",
       "  </tbody>\n",
       "</table>\n",
       "</div>"
      ],
      "text/plain": [
       "            Word  Score\n",
       "2124      stolen     -2\n",
       "1691   perfectly      3\n",
       "726    disputing     -2\n",
       "737   disruptive     -2\n",
       "1502     matters      1\n",
       "1489     made-up     -1\n",
       "1409     lagging     -2\n",
       "1191    homesick     -2\n",
       "1747     praised      3\n",
       "836     endorses      2"
      ]
     },
     "execution_count": 9,
     "metadata": {},
     "output_type": "execute_result"
    }
   ],
   "source": [
    "word_data_afinn.sample(n = 10)"
   ]
  },
  {
   "cell_type": "code",
   "execution_count": 10,
   "metadata": {},
   "outputs": [],
   "source": [
    "def afinn_score(sentence):\n",
    "    if type(sentence) != float:\n",
    "        split_sentence = sentence.split(\" \")\n",
    "        total_score = word_data_afinn.Score[word_data_afinn.Word.isin(split_sentence)].sum()\n",
    "        return total_score"
   ]
  },
  {
   "cell_type": "code",
   "execution_count": 11,
   "metadata": {},
   "outputs": [],
   "source": [
    "flower_data['AfinnScore'] = flower_data.Meaning.apply(afinn_score)"
   ]
  },
  {
   "cell_type": "code",
   "execution_count": 25,
   "metadata": {},
   "outputs": [
    {
     "data": {
      "text/html": [
       "<div>\n",
       "<style scoped>\n",
       "    .dataframe tbody tr th:only-of-type {\n",
       "        vertical-align: middle;\n",
       "    }\n",
       "\n",
       "    .dataframe tbody tr th {\n",
       "        vertical-align: top;\n",
       "    }\n",
       "\n",
       "    .dataframe thead th {\n",
       "        text-align: right;\n",
       "    }\n",
       "</style>\n",
       "<table border=\"1\" class=\"dataframe\">\n",
       "  <thead>\n",
       "    <tr style=\"text-align: right;\">\n",
       "      <th></th>\n",
       "      <th>Flower</th>\n",
       "      <th>Meaning</th>\n",
       "      <th>AfinnScore</th>\n",
       "    </tr>\n",
       "  </thead>\n",
       "  <tbody>\n",
       "    <tr>\n",
       "      <th>219</th>\n",
       "      <td>Snowdrop</td>\n",
       "      <td>hope</td>\n",
       "      <td>2.0</td>\n",
       "    </tr>\n",
       "    <tr>\n",
       "      <th>304</th>\n",
       "      <td>Cherry Blossom</td>\n",
       "      <td>transience of life</td>\n",
       "      <td>0.0</td>\n",
       "    </tr>\n",
       "    <tr>\n",
       "      <th>83</th>\n",
       "      <td>Crocus</td>\n",
       "      <td>lupercalia</td>\n",
       "      <td>0.0</td>\n",
       "    </tr>\n",
       "    <tr>\n",
       "      <th>31</th>\n",
       "      <td>Azalea</td>\n",
       "      <td>gratitude</td>\n",
       "      <td>0.0</td>\n",
       "    </tr>\n",
       "    <tr>\n",
       "      <th>50</th>\n",
       "      <td>Bird of paradise flower</td>\n",
       "      <td>good perspective</td>\n",
       "      <td>3.0</td>\n",
       "    </tr>\n",
       "    <tr>\n",
       "      <th>348</th>\n",
       "      <td>Pansy</td>\n",
       "      <td>caring</td>\n",
       "      <td>0.0</td>\n",
       "    </tr>\n",
       "    <tr>\n",
       "      <th>18</th>\n",
       "      <td>Apple blossom</td>\n",
       "      <td>preference</td>\n",
       "      <td>0.0</td>\n",
       "    </tr>\n",
       "    <tr>\n",
       "      <th>124</th>\n",
       "      <td>Gardenia</td>\n",
       "      <td>sweet love</td>\n",
       "      <td>5.0</td>\n",
       "    </tr>\n",
       "    <tr>\n",
       "      <th>46</th>\n",
       "      <td>Bells of Ireland</td>\n",
       "      <td>luck</td>\n",
       "      <td>3.0</td>\n",
       "    </tr>\n",
       "    <tr>\n",
       "      <th>27</th>\n",
       "      <td>Aster</td>\n",
       "      <td>trusting</td>\n",
       "      <td>0.0</td>\n",
       "    </tr>\n",
       "  </tbody>\n",
       "</table>\n",
       "</div>"
      ],
      "text/plain": [
       "                      Flower             Meaning  AfinnScore\n",
       "219                 Snowdrop                hope         2.0\n",
       "304           Cherry Blossom  transience of life         0.0\n",
       "83                    Crocus          lupercalia         0.0\n",
       "31                    Azalea           gratitude         0.0\n",
       "50   Bird of paradise flower    good perspective         3.0\n",
       "348                    Pansy              caring         0.0\n",
       "18             Apple blossom          preference         0.0\n",
       "124                 Gardenia          sweet love         5.0\n",
       "46          Bells of Ireland                luck         3.0\n",
       "27                     Aster            trusting         0.0"
      ]
     },
     "execution_count": 25,
     "metadata": {},
     "output_type": "execute_result"
    }
   ],
   "source": [
    "flower_data.sample(n=10)"
   ]
  },
  {
   "cell_type": "markdown",
   "metadata": {},
   "source": [
    "---\n",
    "#### Using TEXTBLOB for semantic meaning comparison"
   ]
  },
  {
   "cell_type": "code",
   "execution_count": 26,
   "metadata": {},
   "outputs": [
    {
     "data": {
      "text/plain": [
       "[('Python', 'NNP'),\n",
       " ('is', 'VBZ'),\n",
       " ('a', 'DT'),\n",
       " ('high-level', 'JJ'),\n",
       " ('general-purpose', 'JJ'),\n",
       " ('programming', 'NN'),\n",
       " ('language', 'NN')]"
      ]
     },
     "execution_count": 26,
     "metadata": {},
     "output_type": "execute_result"
    }
   ],
   "source": [
    "wiki = TextBlob(\"Python is a high-level, general-purpose programming language.\")\n",
    "wiki.tags"
   ]
  },
  {
   "cell_type": "code",
   "execution_count": 27,
   "metadata": {},
   "outputs": [
    {
     "data": {
      "text/plain": [
       "Sentiment(polarity=0.0, subjectivity=0.0)"
      ]
     },
     "execution_count": 27,
     "metadata": {},
     "output_type": "execute_result"
    },
    {
     "data": {
      "text/plain": [
       "Sentiment(polarity=-0.1, subjectivity=0.2)"
      ]
     },
     "execution_count": 27,
     "metadata": {},
     "output_type": "execute_result"
    }
   ],
   "source": [
    "wiki.sentiment\n",
    "TextBlob(\"my regrets follow you to the grave\").sentiment"
   ]
  },
  {
   "cell_type": "code",
   "execution_count": 28,
   "metadata": {},
   "outputs": [
    {
     "data": {
      "text/plain": [
       "WordList(['Python', 'is', 'a', 'high-level', 'general-purpose', 'programming', 'language'])"
      ]
     },
     "execution_count": 28,
     "metadata": {},
     "output_type": "execute_result"
    }
   ],
   "source": [
    "a = wiki.words\n",
    "a"
   ]
  },
  {
   "cell_type": "code",
   "execution_count": 29,
   "metadata": {},
   "outputs": [
    {
     "data": {
      "text/plain": [
       "'program'"
      ]
     },
     "execution_count": 29,
     "metadata": {},
     "output_type": "execute_result"
    }
   ],
   "source": [
    "# Programming\n",
    "a[5].lemmatize('v')"
   ]
  },
  {
   "cell_type": "markdown",
   "metadata": {},
   "source": [
    "Get the highest comparison score for each synsets of a word\n",
    "Limit to nouns words"
   ]
  },
  {
   "cell_type": "code",
   "execution_count": 30,
   "metadata": {
    "scrolled": true
   },
   "outputs": [
    {
     "data": {
      "text/plain": [
       "['a similar kind',\n",
       " 'a kind of person',\n",
       " 'prefer or wish to do something',\n",
       " 'find enjoyable or agreeable',\n",
       " 'be fond of',\n",
       " 'feel about or towards; consider, evaluate, or regard',\n",
       " 'want to have',\n",
       " 'resembling or similar; having the same or some of the same characteristics; often used in combination',\n",
       " 'equal in amount or value',\n",
       " 'having the same or similar characteristics',\n",
       " 'conforming in every respect']"
      ]
     },
     "execution_count": 30,
     "metadata": {},
     "output_type": "execute_result"
    },
    {
     "data": {
      "text/plain": [
       "['a strong positive emotion of regard and affection',\n",
       " 'any object of warm affection or devotion; ',\n",
       " 'a beloved person; used as terms of endearment',\n",
       " 'a deep feeling of sexual desire and attraction',\n",
       " 'a score of zero in tennis or squash',\n",
       " 'sexual activities (often including sexual intercourse) between two people',\n",
       " 'have a great affection or liking for',\n",
       " 'get pleasure from',\n",
       " 'be enamored or in love with',\n",
       " 'have sexual intercourse with']"
      ]
     },
     "execution_count": 30,
     "metadata": {},
     "output_type": "execute_result"
    },
    {
     "name": "stdout",
     "output_type": "stream",
     "text": [
      "Similarity: 0.08333333333333333\n"
     ]
    }
   ],
   "source": [
    "textblob.Word(\"like\").definitions\n",
    "textblob.Word(\"Love\").definitions\n",
    "\n",
    "neverendsyn = textblob.Word(\"like\").synsets\n",
    "lovesyn = textblob.Word(\"Love\").synsets\n",
    "\n",
    "print(\"Similarity:\", lovesyn[6].path_similarity(neverendsyn[0]))"
   ]
  },
  {
   "cell_type": "code",
   "execution_count": 31,
   "metadata": {},
   "outputs": [
    {
     "data": {
      "text/plain": [
       "['frugality in the expenditure of money or resources']"
      ]
     },
     "execution_count": 31,
     "metadata": {},
     "output_type": "execute_result"
    },
    {
     "data": {
      "text/plain": [
       "['the system of production and distribution and consumption',\n",
       " 'the efficient use of resources',\n",
       " 'frugality in the expenditure of money or resources',\n",
       " 'an act of economizing; reduction in cost']"
      ]
     },
     "execution_count": 31,
     "metadata": {},
     "output_type": "execute_result"
    }
   ],
   "source": [
    "textblob.Word(\"thriftiness\").definitions\n",
    "textblob.Word(\"economy\").definitions"
   ]
  },
  {
   "cell_type": "code",
   "execution_count": 12,
   "metadata": {},
   "outputs": [],
   "source": [
    "stop_words = set(stopwords.words('english'))"
   ]
  },
  {
   "cell_type": "code",
   "execution_count": 13,
   "metadata": {},
   "outputs": [],
   "source": [
    "def clean_stopwords(sentence, stopwords):\n",
    "    clean_sentence = []\n",
    "    for word in sentence.split(\" \"):\n",
    "        if word not in stopwords:\n",
    "            clean_sentence.append(word)\n",
    "    return \" \".join(clean_sentence)"
   ]
  },
  {
   "cell_type": "code",
   "execution_count": 14,
   "metadata": {},
   "outputs": [
    {
     "data": {
      "text/plain": [
       "'regrets follow grave'"
      ]
     },
     "execution_count": 14,
     "metadata": {},
     "output_type": "execute_result"
    },
    {
     "data": {
      "text/plain": [
       "WordList(['Love', 'between', 'two', 'woman'])"
      ]
     },
     "execution_count": 14,
     "metadata": {},
     "output_type": "execute_result"
    }
   ],
   "source": [
    "clean_stopwords(\"my regrets follow you to the grave\", stop_words)\n",
    "ablob = TextBlob(\"Love between two woman.\")\n",
    "ablob.words"
   ]
  },
  {
   "cell_type": "code",
   "execution_count": 15,
   "metadata": {},
   "outputs": [],
   "source": [
    "# Returns the highest similarity score between two sentences (with 1 being very similar, 0 being different).\n",
    "def compare_meaning_sentence(sentence1, sentence2, stopwords):\n",
    "    blob1 = TextBlob(clean_stopwords(sentence1, stopwords))\n",
    "    blob2 = TextBlob(clean_stopwords(sentence2, stopwords))\n",
    "    nb_words = len(blob1.words) + len(blob2.words)\n",
    "    \n",
    "    similarity_score = 0\n",
    "    for word1 in blob1.words:\n",
    "        for word2 in blob2.words:\n",
    "            similarity_score += compare_meaning_word(word1, word2)\n",
    "    return similarity_score / nb_words\n",
    "                             \n",
    "# Returns the highest similarity score between two words (with 1 being very similar, 0 being different).                             \n",
    "def compare_meaning_word(word1, word2):\n",
    "    highest_similarity_score = 0\n",
    "    \n",
    "    for synset1 in word1.synsets:\n",
    "        for synset2 in word2.synsets:\n",
    "            similarity_score = synset1.path_similarity(synset2)\n",
    "            \n",
    "            if(similarity_score != None and similarity_score > highest_similarity_score):\n",
    "                #print(synset1, synset2, similarity_score)\n",
    "                highest_similarity_score = similarity_score\n",
    "                \n",
    "    return highest_similarity_score\n",
    "\n"
   ]
  },
  {
   "cell_type": "code",
   "execution_count": 16,
   "metadata": {},
   "outputs": [
    {
     "data": {
      "text/plain": [
       "['c', 'a', 'b']"
      ]
     },
     "execution_count": 16,
     "metadata": {},
     "output_type": "execute_result"
    }
   ],
   "source": [
    "numbers = {}\n",
    "numbers['a'] = 4\n",
    "numbers['b'] = 2\n",
    "numbers['c'] = 7\n",
    "sorted(numbers, key = numbers.get, reverse=True)\n",
    "#sorted(numbers.values())"
   ]
  },
  {
   "cell_type": "code",
   "execution_count": 37,
   "metadata": {},
   "outputs": [],
   "source": [
    "# Builds the edge network connection with respect to sentences similarities.\n",
    "# The similarity_threshold refers to the lower limit of similarity score that is considered similar.\n",
    "def index_flower_similarity(similarity_threshold, stopwords = stop_words, link_limit = 6):\n",
    "    similarities = []\n",
    "    \n",
    "    for i in range(0, len(flower_data)):\n",
    "        similar_indexes = []\n",
    "        similar_index_score = {}\n",
    "        \n",
    "        for j in range(i+1, len(flower_data)):\n",
    "            #print(\"indexes:\", i, j)\n",
    "            score = compare_meaning_sentence(flower_data['Meaning'].iloc[i], flower_data['Meaning'].iloc[j], stop_words)\n",
    "            \n",
    "            if score > similarity_threshold:\n",
    "                similar_indexes.append(j)\n",
    "                similar_index_score[j] = score\n",
    "                \n",
    "        similar_index_score = sorted(similar_index_score, key = similar_index_score.get, reverse=True)\n",
    "        del similar_index_score[link_limit:]\n",
    "        \n",
    "        similarities.append(similar_index_score)\n",
    "        \n",
    "    return similarities"
   ]
  },
  {
   "cell_type": "markdown",
   "metadata": {},
   "source": [
    "#### Adding to the csv the similarity nodes with a threshold of 0.4"
   ]
  },
  {
   "cell_type": "code",
   "execution_count": 38,
   "metadata": {},
   "outputs": [
    {
     "ename": "NameError",
     "evalue": "name 'network_links' is not defined",
     "output_type": "error",
     "traceback": [
      "\u001b[1;31m---------------------------------------------------------------------------\u001b[0m",
      "\u001b[1;31mNameError\u001b[0m                                 Traceback (most recent call last)",
      "\u001b[1;32m<ipython-input-38-5e17074b86b0>\u001b[0m in \u001b[0;36m<module>\u001b[1;34m()\u001b[0m\n\u001b[0;32m      1\u001b[0m \u001b[1;31m#network_links = index_flower_similarity(0.4)\u001b[0m\u001b[1;33m\u001b[0m\u001b[1;33m\u001b[0m\u001b[0m\n\u001b[1;32m----> 2\u001b[1;33m \u001b[0mflower_data\u001b[0m\u001b[1;33m[\u001b[0m\u001b[1;34m'SimilarIndex40'\u001b[0m\u001b[1;33m]\u001b[0m \u001b[1;33m=\u001b[0m \u001b[0mpd\u001b[0m\u001b[1;33m.\u001b[0m\u001b[0mSeries\u001b[0m\u001b[1;33m(\u001b[0m\u001b[0mnetwork_links\u001b[0m\u001b[1;33m)\u001b[0m\u001b[1;33m\u001b[0m\u001b[0m\n\u001b[0m\u001b[0;32m      3\u001b[0m \u001b[0mflower_data\u001b[0m\u001b[1;33m.\u001b[0m\u001b[0mto_csv\u001b[0m\u001b[1;33m(\u001b[0m\u001b[1;34m\"../Data/General/flower_cleaned.csv\"\u001b[0m\u001b[1;33m,\u001b[0m \u001b[0msep\u001b[0m\u001b[1;33m=\u001b[0m\u001b[1;34m\";\"\u001b[0m\u001b[1;33m,\u001b[0m \u001b[0mindex\u001b[0m \u001b[1;33m=\u001b[0m \u001b[1;32mFalse\u001b[0m\u001b[1;33m)\u001b[0m\u001b[1;33m\u001b[0m\u001b[0m\n",
      "\u001b[1;31mNameError\u001b[0m: name 'network_links' is not defined"
     ]
    }
   ],
   "source": [
    "#network_links = index_flower_similarity(0.4)\n",
    "flower_data['SimilarIndex40'] = pd.Series(network_links)\n",
    "flower_data.to_csv(\"../Data/General/flower_cleaned.csv\", sep=\";\", index = False)"
   ]
  },
  {
   "cell_type": "code",
   "execution_count": null,
   "metadata": {
    "scrolled": true
   },
   "outputs": [],
   "source": [
    "flower_data.head(10)"
   ]
  },
  {
   "cell_type": "markdown",
   "metadata": {},
   "source": [
    "#### Adding to the csv the similarity nodes with a threshold of 0.3"
   ]
  },
  {
   "cell_type": "code",
   "execution_count": null,
   "metadata": {},
   "outputs": [],
   "source": [
    "network_links = index_flower_similarity(0.3)\n",
    "flower_data['SimilarIndex30'] = pd.Series(network_links)"
   ]
  },
  {
   "cell_type": "code",
   "execution_count": null,
   "metadata": {},
   "outputs": [],
   "source": [
    "flower_data.to_csv(\"../Data/General/flower_cleaned.csv\", sep=\";\", index = False)"
   ]
  },
  {
   "cell_type": "markdown",
   "metadata": {},
   "source": [
    "#### Adding to the csv the similarity nodes with a threshold of 0.2"
   ]
  },
  {
   "cell_type": "code",
   "execution_count": null,
   "metadata": {},
   "outputs": [],
   "source": [
    "network_links = index_flower_similarity(0.2)\n",
    "flower_data['SimilarIndex20'] = pd.Series(network_links)\n",
    "flower_data.to_csv(\"../Data/General/flower_cleaned.csv\", sep=\";\", index = False)"
   ]
  }
 ],
 "metadata": {
  "kernelspec": {
   "display_name": "Python 3",
   "language": "python",
   "name": "python3"
  },
  "language_info": {
   "codemirror_mode": {
    "name": "ipython",
    "version": 3
   },
   "file_extension": ".py",
   "mimetype": "text/x-python",
   "name": "python",
   "nbconvert_exporter": "python",
   "pygments_lexer": "ipython3",
   "version": "3.6.5"
  }
 },
 "nbformat": 4,
 "nbformat_minor": 2
}
