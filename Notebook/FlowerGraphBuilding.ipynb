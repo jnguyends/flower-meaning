{
 "cells": [
  {
   "cell_type": "code",
   "execution_count": 1,
   "metadata": {},
   "outputs": [],
   "source": [
    "import pandas as pd\n",
    "import numpy as np\n",
    "import plotly\n",
    "import re\n",
    "import math\n",
    "import textblob\n",
    "from textblob import TextBlob\n",
    "from textblob import Blobber\n",
    "from textblob.wordnet import Synset"
   ]
  },
  {
   "cell_type": "code",
   "execution_count": 2,
   "metadata": {},
   "outputs": [
    {
     "name": "stdout",
     "output_type": "stream",
     "text": [
      "[nltk_data] Downloading package stopwords to\n",
      "[nltk_data]     C:\\Users\\Julie\\AppData\\Roaming\\nltk_data...\n",
      "[nltk_data]   Package stopwords is already up-to-date!\n"
     ]
    }
   ],
   "source": [
    "import nltk\n",
    "nltk.download('stopwords')\n",
    "from nltk.corpus import stopwords"
   ]
  },
  {
   "cell_type": "code",
   "execution_count": 3,
   "metadata": {},
   "outputs": [],
   "source": [
    "from IPython.core.interactiveshell import InteractiveShell\n",
    "InteractiveShell.ast_node_interactivity = \"all\"\n",
    "%matplotlib inline"
   ]
  },
  {
   "cell_type": "markdown",
   "metadata": {},
   "source": [
    "# To do: \n",
    "- Separate by \"or\" and \";\" also! - Done!\n",
    "- *Polarity check before meaning check because of stop words processing should be better 'v' (kinda done)*"
   ]
  },
  {
   "cell_type": "markdown",
   "metadata": {},
   "source": [
    "#### Reading the pre-cleaned data"
   ]
  },
  {
   "cell_type": "code",
   "execution_count": 4,
   "metadata": {},
   "outputs": [],
   "source": [
    "flower_data = pd.read_csv(\"../Data/General/flower_cleaned.csv\", error_bad_lines=False, delimiter=\";\")"
   ]
  },
  {
   "cell_type": "code",
   "execution_count": 5,
   "metadata": {},
   "outputs": [
    {
     "data": {
      "text/html": [
       "<div>\n",
       "<style scoped>\n",
       "    .dataframe tbody tr th:only-of-type {\n",
       "        vertical-align: middle;\n",
       "    }\n",
       "\n",
       "    .dataframe tbody tr th {\n",
       "        vertical-align: top;\n",
       "    }\n",
       "\n",
       "    .dataframe thead th {\n",
       "        text-align: right;\n",
       "    }\n",
       "</style>\n",
       "<table border=\"1\" class=\"dataframe\">\n",
       "  <thead>\n",
       "    <tr style=\"text-align: right;\">\n",
       "      <th></th>\n",
       "      <th>Flower</th>\n",
       "      <th>Meaning</th>\n",
       "    </tr>\n",
       "  </thead>\n",
       "  <tbody>\n",
       "    <tr>\n",
       "      <th>28</th>\n",
       "      <td>Azalea</td>\n",
       "      <td>take care</td>\n",
       "    </tr>\n",
       "    <tr>\n",
       "      <th>210</th>\n",
       "      <td>Mignonette</td>\n",
       "      <td>worth</td>\n",
       "    </tr>\n",
       "    <tr>\n",
       "      <th>284</th>\n",
       "      <td>Rose [yellow]</td>\n",
       "      <td>extreme betrayal</td>\n",
       "    </tr>\n",
       "    <tr>\n",
       "      <th>243</th>\n",
       "      <td>Primrose</td>\n",
       "      <td>eternal love</td>\n",
       "    </tr>\n",
       "    <tr>\n",
       "      <th>112</th>\n",
       "      <td>Cypress</td>\n",
       "      <td>death</td>\n",
       "    </tr>\n",
       "    <tr>\n",
       "      <th>84</th>\n",
       "      <td>Carnation [solid color]</td>\n",
       "      <td>affirmative</td>\n",
       "    </tr>\n",
       "    <tr>\n",
       "      <th>236</th>\n",
       "      <td>Peony</td>\n",
       "      <td>bravery (in japan)</td>\n",
       "    </tr>\n",
       "    <tr>\n",
       "      <th>250</th>\n",
       "      <td>Poppy [red]</td>\n",
       "      <td>remembrance</td>\n",
       "    </tr>\n",
       "    <tr>\n",
       "      <th>147</th>\n",
       "      <td>Fungus</td>\n",
       "      <td>resilience</td>\n",
       "    </tr>\n",
       "    <tr>\n",
       "      <th>299</th>\n",
       "      <td>Rose [thornless]</td>\n",
       "      <td>love at first sight</td>\n",
       "    </tr>\n",
       "  </tbody>\n",
       "</table>\n",
       "</div>"
      ],
      "text/plain": [
       "                      Flower              Meaning\n",
       "28                    Azalea            take care\n",
       "210               Mignonette                worth\n",
       "284            Rose [yellow]     extreme betrayal\n",
       "243                 Primrose         eternal love\n",
       "112                  Cypress                death\n",
       "84   Carnation [solid color]          affirmative\n",
       "236                    Peony   bravery (in japan)\n",
       "250              Poppy [red]          remembrance\n",
       "147                   Fungus           resilience\n",
       "299         Rose [thornless]  love at first sight"
      ]
     },
     "execution_count": 5,
     "metadata": {},
     "output_type": "execute_result"
    }
   ],
   "source": [
    "flower_data.sample(10)"
   ]
  },
  {
   "cell_type": "markdown",
   "metadata": {},
   "source": [
    "---\n",
    "## - NLP towards network graph building"
   ]
  },
  {
   "cell_type": "markdown",
   "metadata": {},
   "source": [
    "---\n",
    "#### Using AFINN DICTIONARY for sentiment analysis"
   ]
  },
  {
   "cell_type": "code",
   "execution_count": 6,
   "metadata": {},
   "outputs": [],
   "source": [
    "path = \"../External/afinn-master/afinn/data/AFINN-111.txt\"\n",
    "word_data_afinn = pd.read_csv(path, delimiter=\"\\t\", header=None, names=[\"Word\", \"Score\"])"
   ]
  },
  {
   "cell_type": "code",
   "execution_count": 7,
   "metadata": {},
   "outputs": [
    {
     "data": {
      "text/html": [
       "<div>\n",
       "<style scoped>\n",
       "    .dataframe tbody tr th:only-of-type {\n",
       "        vertical-align: middle;\n",
       "    }\n",
       "\n",
       "    .dataframe tbody tr th {\n",
       "        vertical-align: top;\n",
       "    }\n",
       "\n",
       "    .dataframe thead th {\n",
       "        text-align: right;\n",
       "    }\n",
       "</style>\n",
       "<table border=\"1\" class=\"dataframe\">\n",
       "  <thead>\n",
       "    <tr style=\"text-align: right;\">\n",
       "      <th></th>\n",
       "      <th>Word</th>\n",
       "      <th>Score</th>\n",
       "    </tr>\n",
       "  </thead>\n",
       "  <tbody>\n",
       "    <tr>\n",
       "      <th>433</th>\n",
       "      <td>combat</td>\n",
       "      <td>-1</td>\n",
       "    </tr>\n",
       "    <tr>\n",
       "      <th>1969</th>\n",
       "      <td>sceptical</td>\n",
       "      <td>-2</td>\n",
       "    </tr>\n",
       "    <tr>\n",
       "      <th>1303</th>\n",
       "      <td>infuriates</td>\n",
       "      <td>-2</td>\n",
       "    </tr>\n",
       "    <tr>\n",
       "      <th>2264</th>\n",
       "      <td>traumatic</td>\n",
       "      <td>-3</td>\n",
       "    </tr>\n",
       "    <tr>\n",
       "      <th>1092</th>\n",
       "      <td>grace</td>\n",
       "      <td>1</td>\n",
       "    </tr>\n",
       "    <tr>\n",
       "      <th>313</th>\n",
       "      <td>brave</td>\n",
       "      <td>2</td>\n",
       "    </tr>\n",
       "    <tr>\n",
       "      <th>1601</th>\n",
       "      <td>nifty</td>\n",
       "      <td>2</td>\n",
       "    </tr>\n",
       "    <tr>\n",
       "      <th>2419</th>\n",
       "      <td>welcome</td>\n",
       "      <td>2</td>\n",
       "    </tr>\n",
       "    <tr>\n",
       "      <th>2094</th>\n",
       "      <td>spiritless</td>\n",
       "      <td>-2</td>\n",
       "    </tr>\n",
       "    <tr>\n",
       "      <th>629</th>\n",
       "      <td>derision</td>\n",
       "      <td>-2</td>\n",
       "    </tr>\n",
       "  </tbody>\n",
       "</table>\n",
       "</div>"
      ],
      "text/plain": [
       "            Word  Score\n",
       "433       combat     -1\n",
       "1969   sceptical     -2\n",
       "1303  infuriates     -2\n",
       "2264   traumatic     -3\n",
       "1092       grace      1\n",
       "313        brave      2\n",
       "1601       nifty      2\n",
       "2419     welcome      2\n",
       "2094  spiritless     -2\n",
       "629     derision     -2"
      ]
     },
     "execution_count": 7,
     "metadata": {},
     "output_type": "execute_result"
    }
   ],
   "source": [
    "word_data_afinn.sample(n = 10)"
   ]
  },
  {
   "cell_type": "code",
   "execution_count": 8,
   "metadata": {},
   "outputs": [],
   "source": [
    "def afinn_score(sentence):\n",
    "    split_sentence = sentence.split(\" \")\n",
    "    total_score = word_data_afinn.Score[word_data_afinn.Word.isin(split_sentence)].sum()\n",
    "    return total_score"
   ]
  },
  {
   "cell_type": "code",
   "execution_count": 9,
   "metadata": {},
   "outputs": [],
   "source": [
    "#flower_data['AfinnScore'] = flower_data.Meaning.apply(afinn_score)"
   ]
  },
  {
   "cell_type": "code",
   "execution_count": 10,
   "metadata": {},
   "outputs": [
    {
     "data": {
      "text/html": [
       "<div>\n",
       "<style scoped>\n",
       "    .dataframe tbody tr th:only-of-type {\n",
       "        vertical-align: middle;\n",
       "    }\n",
       "\n",
       "    .dataframe tbody tr th {\n",
       "        vertical-align: top;\n",
       "    }\n",
       "\n",
       "    .dataframe thead th {\n",
       "        text-align: right;\n",
       "    }\n",
       "</style>\n",
       "<table border=\"1\" class=\"dataframe\">\n",
       "  <thead>\n",
       "    <tr style=\"text-align: right;\">\n",
       "      <th></th>\n",
       "      <th>Flower</th>\n",
       "      <th>Meaning</th>\n",
       "    </tr>\n",
       "  </thead>\n",
       "  <tbody>\n",
       "    <tr>\n",
       "      <th>11</th>\n",
       "      <td>Anemone</td>\n",
       "      <td>sickness (negative)</td>\n",
       "    </tr>\n",
       "    <tr>\n",
       "      <th>34</th>\n",
       "      <td>Baby's breath</td>\n",
       "      <td>innocence</td>\n",
       "    </tr>\n",
       "    <tr>\n",
       "      <th>192</th>\n",
       "      <td>Lily [orange]</td>\n",
       "      <td>desire</td>\n",
       "    </tr>\n",
       "    <tr>\n",
       "      <th>216</th>\n",
       "      <td>Narcissus</td>\n",
       "      <td>selfishness</td>\n",
       "    </tr>\n",
       "    <tr>\n",
       "      <th>141</th>\n",
       "      <td>Fennel</td>\n",
       "      <td>strength or</td>\n",
       "    </tr>\n",
       "    <tr>\n",
       "      <th>59</th>\n",
       "      <td>Camellia japonica</td>\n",
       "      <td>unpretending excellence</td>\n",
       "    </tr>\n",
       "    <tr>\n",
       "      <th>288</th>\n",
       "      <td>Rose [light pink]</td>\n",
       "      <td>passion</td>\n",
       "    </tr>\n",
       "    <tr>\n",
       "      <th>23</th>\n",
       "      <td>Asphodel</td>\n",
       "      <td>my regrets follow you to the grave</td>\n",
       "    </tr>\n",
       "    <tr>\n",
       "      <th>354</th>\n",
       "      <td>Willow (creeping)</td>\n",
       "      <td>love forsaken</td>\n",
       "    </tr>\n",
       "    <tr>\n",
       "      <th>76</th>\n",
       "      <td>Carnation [yellow]</td>\n",
       "      <td>disappointment</td>\n",
       "    </tr>\n",
       "  </tbody>\n",
       "</table>\n",
       "</div>"
      ],
      "text/plain": [
       "                 Flower                             Meaning\n",
       "11              Anemone                 sickness (negative)\n",
       "34        Baby's breath                           innocence\n",
       "192       Lily [orange]                              desire\n",
       "216           Narcissus                         selfishness\n",
       "141              Fennel                         strength or\n",
       "59    Camellia japonica             unpretending excellence\n",
       "288   Rose [light pink]                             passion\n",
       "23             Asphodel  my regrets follow you to the grave\n",
       "354   Willow (creeping)                       love forsaken\n",
       "76   Carnation [yellow]                      disappointment"
      ]
     },
     "execution_count": 10,
     "metadata": {},
     "output_type": "execute_result"
    }
   ],
   "source": [
    "flower_data.sample(n=10)"
   ]
  },
  {
   "cell_type": "markdown",
   "metadata": {},
   "source": [
    "---\n",
    "#### Using TEXTBLOB for semantic meaning comparison"
   ]
  },
  {
   "cell_type": "code",
   "execution_count": 11,
   "metadata": {},
   "outputs": [
    {
     "data": {
      "text/plain": [
       "[('Python', 'NNP'),\n",
       " ('is', 'VBZ'),\n",
       " ('a', 'DT'),\n",
       " ('high-level', 'JJ'),\n",
       " ('general-purpose', 'JJ'),\n",
       " ('programming', 'NN'),\n",
       " ('language', 'NN')]"
      ]
     },
     "execution_count": 11,
     "metadata": {},
     "output_type": "execute_result"
    }
   ],
   "source": [
    "wiki = TextBlob(\"Python is a high-level, general-purpose programming language.\")\n",
    "wiki.tags"
   ]
  },
  {
   "cell_type": "code",
   "execution_count": 12,
   "metadata": {},
   "outputs": [
    {
     "data": {
      "text/plain": [
       "Sentiment(polarity=0.0, subjectivity=0.0)"
      ]
     },
     "execution_count": 12,
     "metadata": {},
     "output_type": "execute_result"
    },
    {
     "data": {
      "text/plain": [
       "Sentiment(polarity=-0.1, subjectivity=0.2)"
      ]
     },
     "execution_count": 12,
     "metadata": {},
     "output_type": "execute_result"
    }
   ],
   "source": [
    "wiki.sentiment\n",
    "TextBlob(\"my regrets follow you to the grave\").sentiment"
   ]
  },
  {
   "cell_type": "code",
   "execution_count": 13,
   "metadata": {},
   "outputs": [
    {
     "data": {
      "text/plain": [
       "WordList(['Python', 'is', 'a', 'high-level', 'general-purpose', 'programming', 'language'])"
      ]
     },
     "execution_count": 13,
     "metadata": {},
     "output_type": "execute_result"
    }
   ],
   "source": [
    "a = wiki.words\n",
    "a"
   ]
  },
  {
   "cell_type": "code",
   "execution_count": 14,
   "metadata": {},
   "outputs": [
    {
     "data": {
      "text/plain": [
       "'program'"
      ]
     },
     "execution_count": 14,
     "metadata": {},
     "output_type": "execute_result"
    }
   ],
   "source": [
    "# Programming\n",
    "a[5].lemmatize('v')"
   ]
  },
  {
   "cell_type": "markdown",
   "metadata": {},
   "source": [
    "Get the highest comparison score for each synsets of a word\n",
    "Limit to nouns words"
   ]
  },
  {
   "cell_type": "code",
   "execution_count": 15,
   "metadata": {
    "scrolled": true
   },
   "outputs": [
    {
     "data": {
      "text/plain": [
       "['a similar kind',\n",
       " 'a kind of person',\n",
       " 'prefer or wish to do something',\n",
       " 'find enjoyable or agreeable',\n",
       " 'be fond of',\n",
       " 'feel about or towards; consider, evaluate, or regard',\n",
       " 'want to have',\n",
       " 'resembling or similar; having the same or some of the same characteristics; often used in combination',\n",
       " 'equal in amount or value',\n",
       " 'having the same or similar characteristics',\n",
       " 'conforming in every respect']"
      ]
     },
     "execution_count": 15,
     "metadata": {},
     "output_type": "execute_result"
    },
    {
     "data": {
      "text/plain": [
       "['a strong positive emotion of regard and affection',\n",
       " 'any object of warm affection or devotion; ',\n",
       " 'a beloved person; used as terms of endearment',\n",
       " 'a deep feeling of sexual desire and attraction',\n",
       " 'a score of zero in tennis or squash',\n",
       " 'sexual activities (often including sexual intercourse) between two people',\n",
       " 'have a great affection or liking for',\n",
       " 'get pleasure from',\n",
       " 'be enamored or in love with',\n",
       " 'have sexual intercourse with']"
      ]
     },
     "execution_count": 15,
     "metadata": {},
     "output_type": "execute_result"
    },
    {
     "name": "stdout",
     "output_type": "stream",
     "text": [
      "Similarity: 0.08333333333333333\n"
     ]
    }
   ],
   "source": [
    "textblob.Word(\"like\").definitions\n",
    "textblob.Word(\"Love\").definitions\n",
    "\n",
    "neverendsyn = textblob.Word(\"like\").synsets\n",
    "lovesyn = textblob.Word(\"Love\").synsets\n",
    "\n",
    "print(\"Similarity:\", lovesyn[6].path_similarity(neverendsyn[0]))"
   ]
  },
  {
   "cell_type": "code",
   "execution_count": 16,
   "metadata": {},
   "outputs": [
    {
     "data": {
      "text/plain": [
       "['frugality in the expenditure of money or resources']"
      ]
     },
     "execution_count": 16,
     "metadata": {},
     "output_type": "execute_result"
    },
    {
     "data": {
      "text/plain": [
       "['the system of production and distribution and consumption',\n",
       " 'the efficient use of resources',\n",
       " 'frugality in the expenditure of money or resources',\n",
       " 'an act of economizing; reduction in cost']"
      ]
     },
     "execution_count": 16,
     "metadata": {},
     "output_type": "execute_result"
    }
   ],
   "source": [
    "textblob.Word(\"thriftiness\").definitions\n",
    "textblob.Word(\"economy\").definitions"
   ]
  },
  {
   "cell_type": "code",
   "execution_count": 17,
   "metadata": {},
   "outputs": [],
   "source": [
    "stop_words = set(stopwords.words('english'))"
   ]
  },
  {
   "cell_type": "code",
   "execution_count": 18,
   "metadata": {},
   "outputs": [],
   "source": [
    "def clean_stopwords(sentence, stopwords):\n",
    "    clean_sentence = []\n",
    "    for word in sentence.split(\" \"):\n",
    "        if word not in stopwords:\n",
    "            clean_sentence.append(word)\n",
    "    return \" \".join(clean_sentence)"
   ]
  },
  {
   "cell_type": "code",
   "execution_count": 19,
   "metadata": {},
   "outputs": [
    {
     "data": {
      "text/plain": [
       "'regrets follow grave'"
      ]
     },
     "execution_count": 19,
     "metadata": {},
     "output_type": "execute_result"
    },
    {
     "data": {
      "text/plain": [
       "WordList(['Love', 'between', 'two', 'woman'])"
      ]
     },
     "execution_count": 19,
     "metadata": {},
     "output_type": "execute_result"
    }
   ],
   "source": [
    "clean_stopwords(\"my regrets follow you to the grave\", stop_words)\n",
    "ablob = TextBlob(\"Love between two woman.\")\n",
    "ablob.words"
   ]
  },
  {
   "cell_type": "code",
   "execution_count": 20,
   "metadata": {},
   "outputs": [],
   "source": [
    "# Returns the highest similarity score between two sentences (with 1 being very similar, 0 being different).\n",
    "def compare_meaning_sentence(sentence1, sentence2, stopwords):\n",
    "    blob1 = TextBlob(clean_stopwords(sentence1, stopwords))\n",
    "    blob2 = TextBlob(clean_stopwords(sentence2, stopwords))\n",
    "    nb_words = len(blob1.words) + len(blob2.words)\n",
    "    \n",
    "    similarity_score = 0\n",
    "    for word1 in blob1.words:\n",
    "        for word2 in blob2.words:\n",
    "            similarity_score += compare_meaning_word(word1, word2)\n",
    "    return similarity_score / nb_words\n",
    "                             \n",
    "# Returns the highest similarity score between two words (with 1 being very similar, 0 being different).                             \n",
    "def compare_meaning_word(word1, word2):\n",
    "    highest_similarity_score = 0\n",
    "    \n",
    "    for synset1 in word1.synsets:\n",
    "        for synset2 in word2.synsets:\n",
    "            similarity_score = synset1.path_similarity(synset2)\n",
    "            \n",
    "            if(similarity_score != None and similarity_score > highest_similarity_score):\n",
    "                #print(synset1, synset2, similarity_score)\n",
    "                highest_similarity_score = similarity_score\n",
    "                \n",
    "    return highest_similarity_score\n",
    "\n"
   ]
  },
  {
   "cell_type": "code",
   "execution_count": 21,
   "metadata": {},
   "outputs": [],
   "source": [
    "# Builds the edge network connection with respect to sentences similarities.\n",
    "# The similarity_threshold refers to the lower limit of similarity score that is considered similar.\n",
    "def index_flower_similarity(similarity_threshold, stopwords = stop_words):\n",
    "    similarities = []\n",
    "    \n",
    "    for i in range(0, len(flower_data)):\n",
    "        similar_indexes = []\n",
    "        for j in range(i+1, len(flower_data)):\n",
    "            #print(\"indexes:\", i, j)\n",
    "            score = compare_meaning_sentence(flower_data['Meaning'].iloc[i], flower_data['Meaning'].iloc[j], stop_words)\n",
    "            \n",
    "            if score > similarity_threshold:\n",
    "                similar_indexes.append(j)\n",
    "                \n",
    "        similarities.append(similar_indexes)\n",
    "    return similarities"
   ]
  },
  {
   "cell_type": "markdown",
   "metadata": {},
   "source": [
    "#### Adding to the csv the similarity nodes with a threshold of 0.4"
   ]
  },
  {
   "cell_type": "code",
   "execution_count": 27,
   "metadata": {},
   "outputs": [],
   "source": [
    "#network_links = index_flower_similarity(0.4)\n",
    "flower_data['SimilarIndex40'] = pd.Series(network_links)\n",
    "flower_data.to_csv(\"../Data/General/flower_cleaned.csv\", sep=\";\", index = False)"
   ]
  },
  {
   "cell_type": "code",
   "execution_count": 23,
   "metadata": {
    "scrolled": true
   },
   "outputs": [
    {
     "data": {
      "text/html": [
       "<div>\n",
       "<style scoped>\n",
       "    .dataframe tbody tr th:only-of-type {\n",
       "        vertical-align: middle;\n",
       "    }\n",
       "\n",
       "    .dataframe tbody tr th {\n",
       "        vertical-align: top;\n",
       "    }\n",
       "\n",
       "    .dataframe thead th {\n",
       "        text-align: right;\n",
       "    }\n",
       "</style>\n",
       "<table border=\"1\" class=\"dataframe\">\n",
       "  <thead>\n",
       "    <tr style=\"text-align: right;\">\n",
       "      <th></th>\n",
       "      <th>Flower</th>\n",
       "      <th>Meaning</th>\n",
       "    </tr>\n",
       "  </thead>\n",
       "  <tbody>\n",
       "    <tr>\n",
       "      <th>0</th>\n",
       "      <td>Acacia</td>\n",
       "      <td>secret love</td>\n",
       "    </tr>\n",
       "    <tr>\n",
       "      <th>1</th>\n",
       "      <td>Acanthus</td>\n",
       "      <td>art</td>\n",
       "    </tr>\n",
       "    <tr>\n",
       "      <th>2</th>\n",
       "      <td>Aconite</td>\n",
       "      <td>misanthropy</td>\n",
       "    </tr>\n",
       "    <tr>\n",
       "      <th>3</th>\n",
       "      <td>Agrimony</td>\n",
       "      <td>thankfulness</td>\n",
       "    </tr>\n",
       "    <tr>\n",
       "      <th>4</th>\n",
       "      <td>Aloe</td>\n",
       "      <td>grief</td>\n",
       "    </tr>\n",
       "    <tr>\n",
       "      <th>5</th>\n",
       "      <td>Almond</td>\n",
       "      <td>promise</td>\n",
       "    </tr>\n",
       "    <tr>\n",
       "      <th>6</th>\n",
       "      <td>Amaranth (Globe)</td>\n",
       "      <td>immortal love</td>\n",
       "    </tr>\n",
       "    <tr>\n",
       "      <th>7</th>\n",
       "      <td>Amaranth</td>\n",
       "      <td>immortality</td>\n",
       "    </tr>\n",
       "    <tr>\n",
       "      <th>8</th>\n",
       "      <td>Amaryllis</td>\n",
       "      <td>pride</td>\n",
       "    </tr>\n",
       "    <tr>\n",
       "      <th>9</th>\n",
       "      <td>Ambrosia</td>\n",
       "      <td>love is reciprocated</td>\n",
       "    </tr>\n",
       "  </tbody>\n",
       "</table>\n",
       "</div>"
      ],
      "text/plain": [
       "             Flower               Meaning\n",
       "0            Acacia           secret love\n",
       "1          Acanthus                   art\n",
       "2           Aconite           misanthropy\n",
       "3          Agrimony          thankfulness\n",
       "4              Aloe                 grief\n",
       "5            Almond               promise\n",
       "6  Amaranth (Globe)         immortal love\n",
       "7          Amaranth           immortality\n",
       "8         Amaryllis                 pride\n",
       "9          Ambrosia  love is reciprocated"
      ]
     },
     "execution_count": 23,
     "metadata": {},
     "output_type": "execute_result"
    }
   ],
   "source": [
    "flower_data.head(10)"
   ]
  },
  {
   "cell_type": "markdown",
   "metadata": {},
   "source": [
    "#### Adding to the csv the similarity nodes with a threshold of 0.3"
   ]
  },
  {
   "cell_type": "code",
   "execution_count": 24,
   "metadata": {},
   "outputs": [],
   "source": [
    "network_links = index_flower_similarity(0.3)\n",
    "flower_data['SimilarIndex30'] = pd.Series(network_links)"
   ]
  },
  {
   "cell_type": "code",
   "execution_count": 25,
   "metadata": {},
   "outputs": [],
   "source": [
    "flower_data.to_csv(\"../Data/General/flower_cleaned.csv\", sep=\";\", index = False)"
   ]
  },
  {
   "cell_type": "markdown",
   "metadata": {},
   "source": [
    "#### Adding to the csv the similarity nodes with a threshold of 0.2"
   ]
  },
  {
   "cell_type": "code",
   "execution_count": 26,
   "metadata": {},
   "outputs": [],
   "source": [
    "network_links = index_flower_similarity(0.2)\n",
    "flower_data['SimilarIndex20'] = pd.Series(network_links)\n",
    "flower_data.to_csv(\"../Data/General/flower_cleaned.csv\", sep=\";\", index = False)"
   ]
  }
 ],
 "metadata": {
  "kernelspec": {
   "display_name": "Python 3",
   "language": "python",
   "name": "python3"
  },
  "language_info": {
   "codemirror_mode": {
    "name": "ipython",
    "version": 3
   },
   "file_extension": ".py",
   "mimetype": "text/x-python",
   "name": "python",
   "nbconvert_exporter": "python",
   "pygments_lexer": "ipython3",
   "version": "3.6.5"
  }
 },
 "nbformat": 4,
 "nbformat_minor": 2
}
