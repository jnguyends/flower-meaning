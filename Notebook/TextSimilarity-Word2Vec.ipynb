{
 "cells": [
  {
   "cell_type": "code",
   "execution_count": 1,
   "metadata": {},
   "outputs": [],
   "source": [
    "from IPython.core.interactiveshell import InteractiveShell\n",
    "InteractiveShell.ast_node_interactivity = \"all\""
   ]
  },
  {
   "cell_type": "code",
   "execution_count": 74,
   "metadata": {},
   "outputs": [],
   "source": [
    "import json\n",
    "import pandas as pd\n",
    "from collections import OrderedDict\n",
    "from os.path import join, dirname\n",
    "import numpy as np\n",
    "import operator\n",
    "from sklearn.metrics.pairwise import cosine_similarity\n"
   ]
  },
  {
   "cell_type": "code",
   "execution_count": 2,
   "metadata": {},
   "outputs": [
    {
     "name": "stderr",
     "output_type": "stream",
     "text": [
      "[nltk_data] Downloading package stopwords to\n",
      "[nltk_data]     C:\\Users\\julie.a.nguyen\\AppData\\Roaming\\nltk_data...\n",
      "[nltk_data]   Package stopwords is already up-to-date!\n"
     ]
    }
   ],
   "source": [
    "import re\n",
    "\n",
    "import RAKE\n",
    "from RAKE import SmartStopList\n",
    "\n",
    "import nltk\n",
    "from nltk.stem import PorterStemmer\n",
    "from nltk.stem import LancasterStemmer\n",
    "from nltk.tokenize import sent_tokenize\n",
    "\n",
    "from nltk.corpus import stopwords\n",
    "nltk.download('stopwords')\n",
    "\n",
    "from nltk import tokenize"
   ]
  },
  {
   "cell_type": "code",
   "execution_count": 6,
   "metadata": {},
   "outputs": [],
   "source": [
    "stop = stopwords.words('french')"
   ]
  },
  {
   "cell_type": "markdown",
   "metadata": {},
   "source": [
    "### Keyword Extraction with RAKE"
   ]
  },
  {
   "cell_type": "code",
   "execution_count": null,
   "metadata": {},
   "outputs": [],
   "source": [
    "Rake = RAKE.Rake(SmartStopList())"
   ]
  },
  {
   "cell_type": "code",
   "execution_count": 6,
   "metadata": {},
   "outputs": [
    {
     "data": {
      "text/plain": [
       "[('pourriez-vous', 4.0),\n",
       " ('descriptif de', 4.0),\n",
       " ('faire', 1.0),\n",
       " ('école', 1.0)]"
      ]
     },
     "execution_count": 6,
     "metadata": {},
     "output_type": "execute_result"
    }
   ],
   "source": [
    "sentence = \"Pourriez-vous me faire un descriptif de l’école ? De la commune ? Je crois à peu près 2500 habitants.\"\n",
    "Rake.run(sentence, minCharacters = 3, maxWords = 2, minFrequency = 0)\n"
   ]
  },
  {
   "cell_type": "code",
   "execution_count": 71,
   "metadata": {},
   "outputs": [
    {
     "data": {
      "text/plain": [
       "0     [(de la commune, 8.5), (descriptif de, 4.5), (...\n",
       "1     [(la maternelle est indépendante, 13.5), (écol...\n",
       "2     [(plutôt classe moyenne, 9.0), (est ça, 4.0), ...\n",
       "3     [(plutôt classe moyenne, 9.0), (pas beaucoup, ...\n",
       "4     [(enfants de familles fortunées, 16.0), (pas b...\n",
       "5                                        [(voilà, 1.0)]\n",
       "6                           [(vous êtes déchargé, 9.0)]\n",
       "7                         [(le mardi, 4.0), (oui, 1.0)]\n",
       "8          [(vous avez, 4.0), (sinon, 1.0), (cm2, 1.0)]\n",
       "9     [(je suis dans cette école, 23.333333333333332...\n",
       "10                           [(je ne savais pas, 16.0)]\n",
       "11    [(puis avant, 4.0), (ou avec, 4.0), (cm1-cm2, ...\n",
       "12    [(une classe par niveau, 16.0), (en ce moment,...\n",
       "13    [(qui peut intervenir éventuellement, 16.0), (...\n",
       "14                      [(vous avez des besoins, 16.0)]\n",
       "15    [(les relations sont intermittentes, 16.0), (d...\n",
       "Name: keywords_rake, dtype: object"
      ]
     },
     "execution_count": 71,
     "metadata": {},
     "output_type": "execute_result"
    }
   ],
   "source": [
    "data[\"keywords_rake\"]"
   ]
  },
  {
   "cell_type": "markdown",
   "metadata": {},
   "source": [
    "### Text Similarity using SpaCy"
   ]
  },
  {
   "cell_type": "code",
   "execution_count": 92,
   "metadata": {},
   "outputs": [],
   "source": [
    "import spacy\n",
    "from spacy import displacy\n",
    "from collections import Counter\n",
    "import fr_core_news_md\n",
    "nlp = fr_core_news_md.load()"
   ]
  },
  {
   "cell_type": "code",
   "execution_count": 93,
   "metadata": {},
   "outputs": [
    {
     "name": "stdout",
     "output_type": "stream",
     "text": [
      "On PRON nsubj\n",
      "a AUX ROOT\n",
      "assez ADV advmod\n",
      "peu ADV det\n",
      "de ADP fixed\n",
      "relations NOUN obj\n",
      "avec ADP case\n",
      "le DET det\n",
      "réseau NOUN nmod\n",
      "à ADP case\n",
      "part NOUN fixed\n",
      "avec ADP case\n",
      "la DET det\n",
      "psychologue NOUN nmod\n"
     ]
    }
   ],
   "source": [
    "doc = nlp(u'On a assez peu de relations avec le réseau à part avec la psychologue')\n",
    "for token in doc:\n",
    "    print(token.text, token.pos_, token.dep_)"
   ]
  },
  {
   "cell_type": "code",
   "execution_count": 86,
   "metadata": {},
   "outputs": [],
   "source": [
    "for ent in doc.ents:\n",
    "    print(ent.text, ent.start_char, ent.end_char, ent.label_)"
   ]
  },
  {
   "cell_type": "code",
   "execution_count": 94,
   "metadata": {},
   "outputs": [
    {
     "name": "stdout",
     "output_type": "stream",
     "text": [
      "chien chien 1.0\n",
      "chien chat 0.21475194\n",
      "chien banane 0.09739837\n",
      "chat chien 0.21475194\n",
      "chat chat 1.0\n",
      "chat banane 0.20205703\n",
      "banane chien 0.09739837\n",
      "banane chat 0.20205703\n",
      "banane banane 1.0\n"
     ]
    }
   ],
   "source": [
    "tokens = nlp(u'chien chat banane')\n",
    "\n",
    "for token1 in tokens:\n",
    "    for token2 in tokens:\n",
    "        print(token1.text, token2.text, token1.similarity(token2))"
   ]
  },
  {
   "cell_type": "code",
   "execution_count": 122,
   "metadata": {},
   "outputs": [
    {
     "data": {
      "text/plain": [
       "str"
      ]
     },
     "execution_count": 122,
     "metadata": {},
     "output_type": "execute_result"
    },
    {
     "data": {
      "text/plain": [
       "0.4962848004180899"
      ]
     },
     "execution_count": 122,
     "metadata": {},
     "output_type": "execute_result"
    }
   ],
   "source": [
    "type(nlp(u'chien chat banane').text)\n",
    "nlp(u'amour et tentation').similarity(nlp('passion peureuse'))\n"
   ]
  },
  {
   "cell_type": "code",
   "execution_count": 91,
   "metadata": {},
   "outputs": [
    {
     "name": "stdout",
     "output_type": "stream",
     "text": [
      "chien chien 1.0\n",
      "chien chat 0.5273728\n",
      "chien banane 0.3631698\n",
      "chat chien 0.5273728\n",
      "chat chat 1.0\n",
      "chat banane 0.29933968\n",
      "banane chien 0.3631698\n",
      "banane chat 0.29933968\n",
      "banane banane 1.0\n"
     ]
    }
   ],
   "source": [
    "tokens = nlp(u'chien chat banane')\n",
    "\n",
    "for token1 in tokens:\n",
    "    for token2 in tokens:\n",
    "        print(token1.text, token2.text, token1.similarity(token2))"
   ]
  },
  {
   "cell_type": "code",
   "execution_count": null,
   "metadata": {},
   "outputs": [],
   "source": []
  }
 ],
 "metadata": {
  "kernelspec": {
   "display_name": "Python 3",
   "language": "python",
   "name": "python3"
  },
  "language_info": {
   "codemirror_mode": {
    "name": "ipython",
    "version": 3
   },
   "file_extension": ".py",
   "mimetype": "text/x-python",
   "name": "python",
   "nbconvert_exporter": "python",
   "pygments_lexer": "ipython3",
   "version": "3.7.1"
  }
 },
 "nbformat": 4,
 "nbformat_minor": 2
}
